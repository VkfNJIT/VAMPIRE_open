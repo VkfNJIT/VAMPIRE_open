{
 "cells": [
  {
   "cell_type": "code",
   "execution_count": 1,
   "outputs": [],
   "source": [
    "import pandas as pd\n",
    "import glob\n",
    "import os\n",
    "from __future__ import division\n",
    "from datetime import datetime\n",
    "import pickle\n",
    "from PIL import Image\n",
    "from VAMPIRE_backend import cntarea,cntAR,cntExtent,cntEquiDia,cntsol,bdreg,pca_bdreg,clusterSM,update_csv\n",
    "from time import time"
   ],
   "metadata": {
    "collapsed": false,
    "pycharm": {
     "name": "#%%\n"
    }
   }
  },
  {
   "cell_type": "code",
   "execution_count": 2,
   "outputs": [],
   "source": [
    "N=10 #equidistant points along cell boundary\n",
    "clnum = 10\n",
    "modelname='testmodel'\n",
    "outpth = r'C:\\Users\\kyuha\\PycharmProjects\\VAMPIRE_open\\Source Code Contour\\new code'"
   ],
   "metadata": {
    "collapsed": false,
    "pycharm": {
     "name": "#%% Build model\n"
    }
   }
  },
  {
   "cell_type": "code",
   "execution_count": 3,
   "outputs": [],
   "source": [
    "modelpth = r'C:\\Users\\kyuha\\PycharmProjects\\VAMPIRE_open\\Source Code Contour\\new code\\testmodel\\testmodel.pickle'\n",
    "tilepth = r'\\\\motherserverdw\\Kyu_Sync\\Research\\Database\\Hamamatsu Nanozoomer Temporary Repository\\IMCROP20x\\IMCROP_processed\\TILE'\n",
    "setpaths = glob.glob(os.path.join(tilepth,'*'))\n",
    "setID = [os.path.basename(_).split('_')[1] for _ in setpaths] #patient id\n",
    "condition = [os.path.basename(_).split('_')[3] for _ in setpaths] #section id\n",
    "setpaths = [os.path.join(*[_,'out','json']) for _ in setpaths]\n",
    "setpaths2 = setpaths[0:1]"
   ],
   "metadata": {
    "collapsed": false,
    "pycharm": {
     "name": "#%% Apply model\n"
    }
   }
  },
  {
   "cell_type": "code",
   "execution_count": 4,
   "outputs": [],
   "source": [
    "def cellclass(cnt):\n",
    "    celltype = dlim.getpixel((round(cnt[0]),round(cnt[1])))\n",
    "    return celltype"
   ],
   "metadata": {
    "collapsed": false,
    "pycharm": {
     "name": "#%%\n"
    }
   }
  },
  {
   "cell_type": "code",
   "execution_count": null,
   "outputs": [
    {
     "name": "stdout",
     "output_type": "stream",
     "text": [
      "\\\\motherserverdw\\Kyu_Sync\\Research\\Database\\Hamamatsu Nanozoomer Temporary Repository\\IMCROP20x\\IMCROP_processed\\TILE\\imID_320_sec_4\\out\\json\\boundary.pkl\n",
      "288 8 seconds\n",
      "\\\\motherserverdw\\Kyu_Sync\\Research\\Database\\Hamamatsu Nanozoomer Temporary Repository\\IMCROP20x\\IMCROP_processed\\TILE\\imID_321_sec_1\\out\\json\\boundary.pkl\n",
      "289 33 seconds\n",
      "\\\\motherserverdw\\Kyu_Sync\\Research\\Database\\Hamamatsu Nanozoomer Temporary Repository\\IMCROP20x\\IMCROP_processed\\TILE\\imID_321_sec_2\\out\\json\\boundary.pkl\n",
      "290 18 seconds\n",
      "\\\\motherserverdw\\Kyu_Sync\\Research\\Database\\Hamamatsu Nanozoomer Temporary Repository\\IMCROP20x\\IMCROP_processed\\TILE\\imID_329-duplicate_sec_1\\out\\json\\boundary.pkl\n",
      "291 18 seconds\n",
      "\\\\motherserverdw\\Kyu_Sync\\Research\\Database\\Hamamatsu Nanozoomer Temporary Repository\\IMCROP20x\\IMCROP_processed\\TILE\\imID_329-duplicate_sec_2\\out\\json\\boundary.pkl\n",
      "292 15 seconds\n",
      "\\\\motherserverdw\\Kyu_Sync\\Research\\Database\\Hamamatsu Nanozoomer Temporary Repository\\IMCROP20x\\IMCROP_processed\\TILE\\imID_329_sec_1\\out\\json\\boundary.pkl\n",
      "293 14 seconds\n",
      "\\\\motherserverdw\\Kyu_Sync\\Research\\Database\\Hamamatsu Nanozoomer Temporary Repository\\IMCROP20x\\IMCROP_processed\\TILE\\imID_329_sec_2\\out\\json\\boundary.pkl\n",
      "294 13 seconds\n"
     ]
    },
    {
     "ename": "KeyboardInterrupt",
     "evalue": "",
     "output_type": "error",
     "traceback": [
      "\u001B[1;31m---------------------------------------------------------------------------\u001B[0m",
      "\u001B[1;31mKeyboardInterrupt\u001B[0m                         Traceback (most recent call last)",
      "Input \u001B[1;32mIn [6]\u001B[0m, in \u001B[0;36m<module>\u001B[1;34m\u001B[0m\n\u001B[0;32m     12\u001B[0m \u001B[38;5;28;01mif\u001B[39;00m \u001B[38;5;28mlen\u001B[39m(jsons)\u001B[38;5;241m==\u001B[39m\u001B[38;5;241m0\u001B[39m:\u001B[38;5;28;01mcontinue\u001B[39;00m\n\u001B[0;32m     13\u001B[0m \u001B[38;5;28;01mfor\u001B[39;00m js \u001B[38;5;129;01min\u001B[39;00m jsons:\n\u001B[1;32m---> 14\u001B[0m     jss \u001B[38;5;241m=\u001B[39m \u001B[43mpd\u001B[49m\u001B[38;5;241;43m.\u001B[39;49m\u001B[43mread_json\u001B[49m\u001B[43m(\u001B[49m\u001B[43mjs\u001B[49m\u001B[43m)\u001B[49m\n\u001B[0;32m     15\u001B[0m     imid \u001B[38;5;241m=\u001B[39m os\u001B[38;5;241m.\u001B[39mpath\u001B[38;5;241m.\u001B[39msplitext(os\u001B[38;5;241m.\u001B[39mpath\u001B[38;5;241m.\u001B[39mbasename(js))[\u001B[38;5;241m0\u001B[39m]\n\u001B[0;32m     16\u001B[0m     dl \u001B[38;5;241m=\u001B[39m os\u001B[38;5;241m.\u001B[39mpath\u001B[38;5;241m.\u001B[39mjoin(dldir,imid\u001B[38;5;241m+\u001B[39m\u001B[38;5;124m'\u001B[39m\u001B[38;5;124m.tif\u001B[39m\u001B[38;5;124m'\u001B[39m)\n",
      "File \u001B[1;32mc:\\users\\kyuha\\pycharmprojects\\vampire_open\\digital_pathology\\lib\\site-packages\\pandas\\util\\_decorators.py:214\u001B[0m, in \u001B[0;36mdeprecate_kwarg.<locals>._deprecate_kwarg.<locals>.wrapper\u001B[1;34m(*args, **kwargs)\u001B[0m\n\u001B[0;32m    212\u001B[0m     \u001B[38;5;28;01melse\u001B[39;00m:\n\u001B[0;32m    213\u001B[0m         kwargs[new_arg_name] \u001B[38;5;241m=\u001B[39m new_arg_value\n\u001B[1;32m--> 214\u001B[0m \u001B[38;5;28;01mreturn\u001B[39;00m \u001B[43mfunc\u001B[49m\u001B[43m(\u001B[49m\u001B[38;5;241;43m*\u001B[39;49m\u001B[43margs\u001B[49m\u001B[43m,\u001B[49m\u001B[43m \u001B[49m\u001B[38;5;241;43m*\u001B[39;49m\u001B[38;5;241;43m*\u001B[39;49m\u001B[43mkwargs\u001B[49m\u001B[43m)\u001B[49m\n",
      "File \u001B[1;32mc:\\users\\kyuha\\pycharmprojects\\vampire_open\\digital_pathology\\lib\\site-packages\\pandas\\io\\json\\_json.py:588\u001B[0m, in \u001B[0;36mread_json\u001B[1;34m(path_or_buf, orient, typ, dtype, convert_axes, convert_dates, keep_default_dates, numpy, precise_float, date_unit, encoding, lines, chunksize, compression)\u001B[0m\n\u001B[0;32m    583\u001B[0m compression \u001B[38;5;241m=\u001B[39m infer_compression(path_or_buf, compression)\n\u001B[0;32m    584\u001B[0m filepath_or_buffer, _, compression, should_close \u001B[38;5;241m=\u001B[39m get_filepath_or_buffer(\n\u001B[0;32m    585\u001B[0m     path_or_buf, encoding\u001B[38;5;241m=\u001B[39mencoding, compression\u001B[38;5;241m=\u001B[39mcompression\n\u001B[0;32m    586\u001B[0m )\n\u001B[1;32m--> 588\u001B[0m json_reader \u001B[38;5;241m=\u001B[39m \u001B[43mJsonReader\u001B[49m\u001B[43m(\u001B[49m\n\u001B[0;32m    589\u001B[0m \u001B[43m    \u001B[49m\u001B[43mfilepath_or_buffer\u001B[49m\u001B[43m,\u001B[49m\n\u001B[0;32m    590\u001B[0m \u001B[43m    \u001B[49m\u001B[43morient\u001B[49m\u001B[38;5;241;43m=\u001B[39;49m\u001B[43morient\u001B[49m\u001B[43m,\u001B[49m\n\u001B[0;32m    591\u001B[0m \u001B[43m    \u001B[49m\u001B[43mtyp\u001B[49m\u001B[38;5;241;43m=\u001B[39;49m\u001B[43mtyp\u001B[49m\u001B[43m,\u001B[49m\n\u001B[0;32m    592\u001B[0m \u001B[43m    \u001B[49m\u001B[43mdtype\u001B[49m\u001B[38;5;241;43m=\u001B[39;49m\u001B[43mdtype\u001B[49m\u001B[43m,\u001B[49m\n\u001B[0;32m    593\u001B[0m \u001B[43m    \u001B[49m\u001B[43mconvert_axes\u001B[49m\u001B[38;5;241;43m=\u001B[39;49m\u001B[43mconvert_axes\u001B[49m\u001B[43m,\u001B[49m\n\u001B[0;32m    594\u001B[0m \u001B[43m    \u001B[49m\u001B[43mconvert_dates\u001B[49m\u001B[38;5;241;43m=\u001B[39;49m\u001B[43mconvert_dates\u001B[49m\u001B[43m,\u001B[49m\n\u001B[0;32m    595\u001B[0m \u001B[43m    \u001B[49m\u001B[43mkeep_default_dates\u001B[49m\u001B[38;5;241;43m=\u001B[39;49m\u001B[43mkeep_default_dates\u001B[49m\u001B[43m,\u001B[49m\n\u001B[0;32m    596\u001B[0m \u001B[43m    \u001B[49m\u001B[43mnumpy\u001B[49m\u001B[38;5;241;43m=\u001B[39;49m\u001B[43mnumpy\u001B[49m\u001B[43m,\u001B[49m\n\u001B[0;32m    597\u001B[0m \u001B[43m    \u001B[49m\u001B[43mprecise_float\u001B[49m\u001B[38;5;241;43m=\u001B[39;49m\u001B[43mprecise_float\u001B[49m\u001B[43m,\u001B[49m\n\u001B[0;32m    598\u001B[0m \u001B[43m    \u001B[49m\u001B[43mdate_unit\u001B[49m\u001B[38;5;241;43m=\u001B[39;49m\u001B[43mdate_unit\u001B[49m\u001B[43m,\u001B[49m\n\u001B[0;32m    599\u001B[0m \u001B[43m    \u001B[49m\u001B[43mencoding\u001B[49m\u001B[38;5;241;43m=\u001B[39;49m\u001B[43mencoding\u001B[49m\u001B[43m,\u001B[49m\n\u001B[0;32m    600\u001B[0m \u001B[43m    \u001B[49m\u001B[43mlines\u001B[49m\u001B[38;5;241;43m=\u001B[39;49m\u001B[43mlines\u001B[49m\u001B[43m,\u001B[49m\n\u001B[0;32m    601\u001B[0m \u001B[43m    \u001B[49m\u001B[43mchunksize\u001B[49m\u001B[38;5;241;43m=\u001B[39;49m\u001B[43mchunksize\u001B[49m\u001B[43m,\u001B[49m\n\u001B[0;32m    602\u001B[0m \u001B[43m    \u001B[49m\u001B[43mcompression\u001B[49m\u001B[38;5;241;43m=\u001B[39;49m\u001B[43mcompression\u001B[49m\u001B[43m,\u001B[49m\n\u001B[0;32m    603\u001B[0m \u001B[43m\u001B[49m\u001B[43m)\u001B[49m\n\u001B[0;32m    605\u001B[0m \u001B[38;5;28;01mif\u001B[39;00m chunksize:\n\u001B[0;32m    606\u001B[0m     \u001B[38;5;28;01mreturn\u001B[39;00m json_reader\n",
      "File \u001B[1;32mc:\\users\\kyuha\\pycharmprojects\\vampire_open\\digital_pathology\\lib\\site-packages\\pandas\\io\\json\\_json.py:664\u001B[0m, in \u001B[0;36mJsonReader.__init__\u001B[1;34m(self, filepath_or_buffer, orient, typ, dtype, convert_axes, convert_dates, keep_default_dates, numpy, precise_float, date_unit, encoding, lines, chunksize, compression)\u001B[0m\n\u001B[0;32m    661\u001B[0m     \u001B[38;5;28;01mif\u001B[39;00m \u001B[38;5;129;01mnot\u001B[39;00m \u001B[38;5;28mself\u001B[39m\u001B[38;5;241m.\u001B[39mlines:\n\u001B[0;32m    662\u001B[0m         \u001B[38;5;28;01mraise\u001B[39;00m \u001B[38;5;167;01mValueError\u001B[39;00m(\u001B[38;5;124m\"\u001B[39m\u001B[38;5;124mchunksize can only be passed if lines=True\u001B[39m\u001B[38;5;124m\"\u001B[39m)\n\u001B[1;32m--> 664\u001B[0m data \u001B[38;5;241m=\u001B[39m \u001B[38;5;28;43mself\u001B[39;49m\u001B[38;5;241;43m.\u001B[39;49m\u001B[43m_get_data_from_filepath\u001B[49m\u001B[43m(\u001B[49m\u001B[43mfilepath_or_buffer\u001B[49m\u001B[43m)\u001B[49m\n\u001B[0;32m    665\u001B[0m \u001B[38;5;28mself\u001B[39m\u001B[38;5;241m.\u001B[39mdata \u001B[38;5;241m=\u001B[39m \u001B[38;5;28mself\u001B[39m\u001B[38;5;241m.\u001B[39m_preprocess_data(data)\n",
      "File \u001B[1;32mc:\\users\\kyuha\\pycharmprojects\\vampire_open\\digital_pathology\\lib\\site-packages\\pandas\\io\\json\\_json.py:703\u001B[0m, in \u001B[0;36mJsonReader._get_data_from_filepath\u001B[1;34m(self, filepath_or_buffer)\u001B[0m\n\u001B[0;32m    700\u001B[0m         \u001B[38;5;28;01mpass\u001B[39;00m\n\u001B[0;32m    702\u001B[0m \u001B[38;5;28;01mif\u001B[39;00m exists \u001B[38;5;129;01mor\u001B[39;00m \u001B[38;5;28mself\u001B[39m\u001B[38;5;241m.\u001B[39mcompression \u001B[38;5;129;01mis\u001B[39;00m \u001B[38;5;129;01mnot\u001B[39;00m \u001B[38;5;28;01mNone\u001B[39;00m:\n\u001B[1;32m--> 703\u001B[0m     data, _ \u001B[38;5;241m=\u001B[39m \u001B[43mget_handle\u001B[49m\u001B[43m(\u001B[49m\n\u001B[0;32m    704\u001B[0m \u001B[43m        \u001B[49m\u001B[43mfilepath_or_buffer\u001B[49m\u001B[43m,\u001B[49m\n\u001B[0;32m    705\u001B[0m \u001B[43m        \u001B[49m\u001B[38;5;124;43m\"\u001B[39;49m\u001B[38;5;124;43mr\u001B[39;49m\u001B[38;5;124;43m\"\u001B[39;49m\u001B[43m,\u001B[49m\n\u001B[0;32m    706\u001B[0m \u001B[43m        \u001B[49m\u001B[43mencoding\u001B[49m\u001B[38;5;241;43m=\u001B[39;49m\u001B[38;5;28;43mself\u001B[39;49m\u001B[38;5;241;43m.\u001B[39;49m\u001B[43mencoding\u001B[49m\u001B[43m,\u001B[49m\n\u001B[0;32m    707\u001B[0m \u001B[43m        \u001B[49m\u001B[43mcompression\u001B[49m\u001B[38;5;241;43m=\u001B[39;49m\u001B[38;5;28;43mself\u001B[39;49m\u001B[38;5;241;43m.\u001B[39;49m\u001B[43mcompression\u001B[49m\u001B[43m,\u001B[49m\n\u001B[0;32m    708\u001B[0m \u001B[43m    \u001B[49m\u001B[43m)\u001B[49m\n\u001B[0;32m    709\u001B[0m     \u001B[38;5;28mself\u001B[39m\u001B[38;5;241m.\u001B[39mshould_close \u001B[38;5;241m=\u001B[39m \u001B[38;5;28;01mTrue\u001B[39;00m\n\u001B[0;32m    710\u001B[0m     \u001B[38;5;28mself\u001B[39m\u001B[38;5;241m.\u001B[39mopen_stream \u001B[38;5;241m=\u001B[39m data\n",
      "File \u001B[1;32mc:\\users\\kyuha\\pycharmprojects\\vampire_open\\digital_pathology\\lib\\site-packages\\pandas\\io\\common.py:455\u001B[0m, in \u001B[0;36mget_handle\u001B[1;34m(path_or_buf, mode, encoding, compression, memory_map, is_text)\u001B[0m\n\u001B[0;32m    452\u001B[0m \u001B[38;5;28;01melif\u001B[39;00m is_path:\n\u001B[0;32m    453\u001B[0m     \u001B[38;5;28;01mif\u001B[39;00m encoding:\n\u001B[0;32m    454\u001B[0m         \u001B[38;5;66;03m# Encoding\u001B[39;00m\n\u001B[1;32m--> 455\u001B[0m         f \u001B[38;5;241m=\u001B[39m \u001B[38;5;28;43mopen\u001B[39;49m\u001B[43m(\u001B[49m\u001B[43mpath_or_buf\u001B[49m\u001B[43m,\u001B[49m\u001B[43m \u001B[49m\u001B[43mmode\u001B[49m\u001B[43m,\u001B[49m\u001B[43m \u001B[49m\u001B[43mencoding\u001B[49m\u001B[38;5;241;43m=\u001B[39;49m\u001B[43mencoding\u001B[49m\u001B[43m,\u001B[49m\u001B[43m \u001B[49m\u001B[43mnewline\u001B[49m\u001B[38;5;241;43m=\u001B[39;49m\u001B[38;5;124;43m\"\u001B[39;49m\u001B[38;5;124;43m\"\u001B[39;49m\u001B[43m)\u001B[49m\n\u001B[0;32m    456\u001B[0m     \u001B[38;5;28;01melif\u001B[39;00m is_text:\n\u001B[0;32m    457\u001B[0m         \u001B[38;5;66;03m# No explicit encoding\u001B[39;00m\n\u001B[0;32m    458\u001B[0m         f \u001B[38;5;241m=\u001B[39m \u001B[38;5;28mopen\u001B[39m(path_or_buf, mode, errors\u001B[38;5;241m=\u001B[39m\u001B[38;5;124m\"\u001B[39m\u001B[38;5;124mreplace\u001B[39m\u001B[38;5;124m\"\u001B[39m, newline\u001B[38;5;241m=\u001B[39m\u001B[38;5;124m\"\u001B[39m\u001B[38;5;124m\"\u001B[39m)\n",
      "File \u001B[1;32m~\\AppData\\Local\\Programs\\Python\\Python38\\lib\\codecs.py:309\u001B[0m, in \u001B[0;36mBufferedIncrementalDecoder.__init__\u001B[1;34m(self, errors)\u001B[0m\n\u001B[0;32m    303\u001B[0m \u001B[38;5;28;01mclass\u001B[39;00m \u001B[38;5;21;01mBufferedIncrementalDecoder\u001B[39;00m(IncrementalDecoder):\n\u001B[0;32m    304\u001B[0m     \u001B[38;5;124;03m\"\"\"\u001B[39;00m\n\u001B[0;32m    305\u001B[0m \u001B[38;5;124;03m    This subclass of IncrementalDecoder can be used as the baseclass for an\u001B[39;00m\n\u001B[0;32m    306\u001B[0m \u001B[38;5;124;03m    incremental decoder if the decoder must be able to handle incomplete\u001B[39;00m\n\u001B[0;32m    307\u001B[0m \u001B[38;5;124;03m    byte sequences.\u001B[39;00m\n\u001B[0;32m    308\u001B[0m \u001B[38;5;124;03m    \"\"\"\u001B[39;00m\n\u001B[1;32m--> 309\u001B[0m     \u001B[38;5;28;01mdef\u001B[39;00m \u001B[38;5;21m__init__\u001B[39m(\u001B[38;5;28mself\u001B[39m, errors\u001B[38;5;241m=\u001B[39m\u001B[38;5;124m'\u001B[39m\u001B[38;5;124mstrict\u001B[39m\u001B[38;5;124m'\u001B[39m):\n\u001B[0;32m    310\u001B[0m         IncrementalDecoder\u001B[38;5;241m.\u001B[39m\u001B[38;5;21m__init__\u001B[39m(\u001B[38;5;28mself\u001B[39m, errors)\n\u001B[0;32m    311\u001B[0m         \u001B[38;5;66;03m# undecoded input that is kept between calls to decode()\u001B[39;00m\n",
      "\u001B[1;31mKeyboardInterrupt\u001B[0m: "
     ]
    }
   ],
   "source": [
    "# jsnucs = pd.DataFrame()\n",
    "for setidx, setpath in enumerate(setpaths):\n",
    "    # patientdir = r'\\\\motherserverdw\\Kyu_Sync\\Research\\Database\\Hamamatsu Nanozoomer Temporary Repository\\IMCROP20x\\IMCROP_processed\\TILE\\imID_8_sec_1'\n",
    "    # jsondir = os.path.join(*[patientdir,'out','json'])\n",
    "    start = time()\n",
    "    jsondir = setpath\n",
    "    if os.path.exists(os.path.join(jsondir,'boundary.pkl')):continue\n",
    "    jsons = glob.glob(os.path.join(jsondir,'*json'))\n",
    "    dldir = os.path.dirname(os.path.dirname(jsondir)).replace('TILE','DLTILE')\n",
    "    # dls = glob.glob(os.path.join(dldir,'*tif'))\n",
    "    jsnucs = pd.DataFrame()\n",
    "    if len(jsons)==0:continue\n",
    "    for js in jsons:\n",
    "        jss = pd.read_json(js)\n",
    "        imid = os.path.splitext(os.path.basename(js))[0]\n",
    "        dl = os.path.join(dldir,imid+'.tif')\n",
    "        dlim = Image.open(dl)\n",
    "        jsnuc = jss['nuc'].apply(pd.Series)\n",
    "        if len(jsnuc)==0:continue\n",
    "        jsnuc = jsnuc.drop(['type_prob'], axis=1).reset_index(drop=True)\n",
    "        jsnuc['celltype'] = jsnuc['centroid'].apply(lambda row: cellclass(row))\n",
    "        jsnucs = pd.concat([jsnucs,jsnuc],ignore_index=True)\n",
    "    jsnucs = jsnucs[jsnucs['contour'].map(len) > 5]\n",
    "    jsnucs.to_pickle(os.path.join(jsondir,'boundary.pkl'))\n",
    "    print(os.path.join(jsondir,'boundary.pkl'))\n",
    "    print(setidx,round(time()-start),'seconds')"
   ],
   "metadata": {
    "collapsed": false,
    "pycharm": {
     "name": "#%% list all json files\n",
     "is_executing": true
    }
   }
  },
  {
   "cell_type": "code",
   "execution_count": 45,
   "outputs": [
    {
     "name": "stdout",
     "output_type": "stream",
     "text": [
      "0 seconds\n"
     ]
    }
   ],
   "source": [
    "start = time()\n",
    "pkls = pd.DataFrame()\n",
    "for setidx, setpath in enumerate(setpaths[0:50]):\n",
    "    start = time()\n",
    "    pkl = pd.read_pickle(os.path.join(setpath,'boundary.pkl'))\n",
    "    pkls = pd.concat([pkls,pkl],ignore_index=True)\n",
    "print(round(time()-start),'seconds')"
   ],
   "metadata": {
    "collapsed": false,
    "pycharm": {
     "name": "#%%\n"
    }
   }
  },
  {
   "cell_type": "code",
   "execution_count": 51,
   "outputs": [
    {
     "name": "stderr",
     "output_type": "stream",
     "text": [
      "C:\\Users\\kyuha\\AppData\\Local\\Temp/ipykernel_33076/67631967.py:3: SettingWithCopyWarning: \n",
      "A value is trying to be set on a copy of a slice from a DataFrame.\n",
      "Try using .loc[row_indexer,col_indexer] = value instead\n",
      "\n",
      "See the caveats in the documentation: https://pandas.pydata.org/pandas-docs/stable/user_guide/indexing.html#returning-a-view-versus-a-copy\n",
      "  pkls['AR'] = pkls['contour'].apply(lambda row: cntAR(row))\n",
      "C:\\Users\\kyuha\\AppData\\Local\\Temp/ipykernel_33076/67631967.py:4: SettingWithCopyWarning: \n",
      "A value is trying to be set on a copy of a slice from a DataFrame.\n",
      "Try using .loc[row_indexer,col_indexer] = value instead\n",
      "\n",
      "See the caveats in the documentation: https://pandas.pydata.org/pandas-docs/stable/user_guide/indexing.html#returning-a-view-versus-a-copy\n",
      "  pkls['Sol'] = pkls['contour'].apply(lambda row: cntExtent(row))\n",
      "C:\\Users\\kyuha\\AppData\\Local\\Temp/ipykernel_33076/67631967.py:5: SettingWithCopyWarning: \n",
      "A value is trying to be set on a copy of a slice from a DataFrame.\n",
      "Try using .loc[row_indexer,col_indexer] = value instead\n",
      "\n",
      "See the caveats in the documentation: https://pandas.pydata.org/pandas-docs/stable/user_guide/indexing.html#returning-a-view-versus-a-copy\n",
      "  pkls['Extent'] = pkls['contour'].apply(lambda row: cntEquiDia(row))\n"
     ]
    },
    {
     "name": "stdout",
     "output_type": "stream",
     "text": [
      "26 seconds\n"
     ]
    },
    {
     "name": "stderr",
     "output_type": "stream",
     "text": [
      "C:\\Users\\kyuha\\AppData\\Local\\Temp/ipykernel_33076/67631967.py:6: SettingWithCopyWarning: \n",
      "A value is trying to be set on a copy of a slice from a DataFrame.\n",
      "Try using .loc[row_indexer,col_indexer] = value instead\n",
      "\n",
      "See the caveats in the documentation: https://pandas.pydata.org/pandas-docs/stable/user_guide/indexing.html#returning-a-view-versus-a-copy\n",
      "  pkls['EquiDia'] = pkls['contour'].apply(lambda row: cntsol(row))\n"
     ]
    },
    {
     "data": {
      "text/plain": "                            bbox                                  centroid  \\\n0       [[965, 965], [981, 987]]    [975.4083969465648, 972.3931297709923]   \n1       [[957, 881], [999, 948]]    [911.4903100775193, 976.8914728682171]   \n2       [[982, 954], [996, 971]]    [961.8663101604278, 988.4652406417113]   \n3           [[0, 932], [9, 947]]    [938.7142857142857, 3.789915966386554]   \n4         [[30, 927], [40, 942]]   [934.1008403361344, 35.016806722689076]   \n...                          ...                                       ...   \n826413  [[194, 477], [205, 487]]   [481.88461538461536, 199.0897435897436]   \n826414  [[211, 573], [221, 581]]    [576.5737704918033, 215.2295081967213]   \n826415  [[220, 336], [236, 347]]  [341.10526315789474, 226.99122807017545]   \n826416  [[259, 164], [270, 174]]   [168.22368421052633, 263.7894736842105]   \n826417  [[343, 308], [356, 319]]   [312.80263157894734, 349.2105263157895]   \n\n                                                  contour  type  celltype  \\\n0       [[973, 965], [972, 966], [971, 966], [970, 967...  None         2   \n1       [[944, 957], [943, 958], [940, 958], [939, 959...  None         2   \n2       [[960, 982], [959, 983], [958, 983], [957, 984...  None         2   \n3       [[933, 0], [933, 1], [932, 2], [932, 6], [934,...  None         2   \n4       [[933, 30], [932, 31], [930, 31], [927, 34], [...  None         2   \n...                                                   ...   ...       ...   \n826413  [[481, 194], [481, 195], [477, 199], [477, 200...  None        10   \n826414  [[574, 211], [574, 212], [573, 213], [573, 215...  None        10   \n826415  [[338, 220], [336, 222], [337, 223], [337, 225...  None        10   \n826416  [[167, 259], [166, 260], [165, 260], [165, 261...  None        10   \n826417  [[316, 343], [313, 346], [312, 346], [312, 347...  None        10   \n\n              AR       Sol     Extent   EquiDia  \n0       0.706808  0.669034  17.316117  0.961224  \n1       0.162669  0.156894  23.709392  0.676628  \n2       0.789848  0.691176  14.472315  0.967647  \n3       0.759950  0.737037  11.255547  0.975490  \n4       0.646366  0.670000  11.311966  0.957143  \n...          ...       ...        ...       ...  \n826413  0.793498  0.581818   9.027033  0.948148  \n826414  0.752132  0.593750   7.776817  0.896226  \n826415  0.515799  0.539773  10.998080  0.875576  \n826416  0.914510  0.563636   8.884866  0.939394  \n826417  0.432604  0.419580   8.740387  0.875912  \n\n[826410 rows x 9 columns]",
      "text/html": "<div>\n<style scoped>\n    .dataframe tbody tr th:only-of-type {\n        vertical-align: middle;\n    }\n\n    .dataframe tbody tr th {\n        vertical-align: top;\n    }\n\n    .dataframe thead th {\n        text-align: right;\n    }\n</style>\n<table border=\"1\" class=\"dataframe\">\n  <thead>\n    <tr style=\"text-align: right;\">\n      <th></th>\n      <th>bbox</th>\n      <th>centroid</th>\n      <th>contour</th>\n      <th>type</th>\n      <th>celltype</th>\n      <th>AR</th>\n      <th>Sol</th>\n      <th>Extent</th>\n      <th>EquiDia</th>\n    </tr>\n  </thead>\n  <tbody>\n    <tr>\n      <th>0</th>\n      <td>[[965, 965], [981, 987]]</td>\n      <td>[975.4083969465648, 972.3931297709923]</td>\n      <td>[[973, 965], [972, 966], [971, 966], [970, 967...</td>\n      <td>None</td>\n      <td>2</td>\n      <td>0.706808</td>\n      <td>0.669034</td>\n      <td>17.316117</td>\n      <td>0.961224</td>\n    </tr>\n    <tr>\n      <th>1</th>\n      <td>[[957, 881], [999, 948]]</td>\n      <td>[911.4903100775193, 976.8914728682171]</td>\n      <td>[[944, 957], [943, 958], [940, 958], [939, 959...</td>\n      <td>None</td>\n      <td>2</td>\n      <td>0.162669</td>\n      <td>0.156894</td>\n      <td>23.709392</td>\n      <td>0.676628</td>\n    </tr>\n    <tr>\n      <th>2</th>\n      <td>[[982, 954], [996, 971]]</td>\n      <td>[961.8663101604278, 988.4652406417113]</td>\n      <td>[[960, 982], [959, 983], [958, 983], [957, 984...</td>\n      <td>None</td>\n      <td>2</td>\n      <td>0.789848</td>\n      <td>0.691176</td>\n      <td>14.472315</td>\n      <td>0.967647</td>\n    </tr>\n    <tr>\n      <th>3</th>\n      <td>[[0, 932], [9, 947]]</td>\n      <td>[938.7142857142857, 3.789915966386554]</td>\n      <td>[[933, 0], [933, 1], [932, 2], [932, 6], [934,...</td>\n      <td>None</td>\n      <td>2</td>\n      <td>0.759950</td>\n      <td>0.737037</td>\n      <td>11.255547</td>\n      <td>0.975490</td>\n    </tr>\n    <tr>\n      <th>4</th>\n      <td>[[30, 927], [40, 942]]</td>\n      <td>[934.1008403361344, 35.016806722689076]</td>\n      <td>[[933, 30], [932, 31], [930, 31], [927, 34], [...</td>\n      <td>None</td>\n      <td>2</td>\n      <td>0.646366</td>\n      <td>0.670000</td>\n      <td>11.311966</td>\n      <td>0.957143</td>\n    </tr>\n    <tr>\n      <th>...</th>\n      <td>...</td>\n      <td>...</td>\n      <td>...</td>\n      <td>...</td>\n      <td>...</td>\n      <td>...</td>\n      <td>...</td>\n      <td>...</td>\n      <td>...</td>\n    </tr>\n    <tr>\n      <th>826413</th>\n      <td>[[194, 477], [205, 487]]</td>\n      <td>[481.88461538461536, 199.0897435897436]</td>\n      <td>[[481, 194], [481, 195], [477, 199], [477, 200...</td>\n      <td>None</td>\n      <td>10</td>\n      <td>0.793498</td>\n      <td>0.581818</td>\n      <td>9.027033</td>\n      <td>0.948148</td>\n    </tr>\n    <tr>\n      <th>826414</th>\n      <td>[[211, 573], [221, 581]]</td>\n      <td>[576.5737704918033, 215.2295081967213]</td>\n      <td>[[574, 211], [574, 212], [573, 213], [573, 215...</td>\n      <td>None</td>\n      <td>10</td>\n      <td>0.752132</td>\n      <td>0.593750</td>\n      <td>7.776817</td>\n      <td>0.896226</td>\n    </tr>\n    <tr>\n      <th>826415</th>\n      <td>[[220, 336], [236, 347]]</td>\n      <td>[341.10526315789474, 226.99122807017545]</td>\n      <td>[[338, 220], [336, 222], [337, 223], [337, 225...</td>\n      <td>None</td>\n      <td>10</td>\n      <td>0.515799</td>\n      <td>0.539773</td>\n      <td>10.998080</td>\n      <td>0.875576</td>\n    </tr>\n    <tr>\n      <th>826416</th>\n      <td>[[259, 164], [270, 174]]</td>\n      <td>[168.22368421052633, 263.7894736842105]</td>\n      <td>[[167, 259], [166, 260], [165, 260], [165, 261...</td>\n      <td>None</td>\n      <td>10</td>\n      <td>0.914510</td>\n      <td>0.563636</td>\n      <td>8.884866</td>\n      <td>0.939394</td>\n    </tr>\n    <tr>\n      <th>826417</th>\n      <td>[[343, 308], [356, 319]]</td>\n      <td>[312.80263157894734, 349.2105263157895]</td>\n      <td>[[316, 343], [313, 346], [312, 346], [312, 347...</td>\n      <td>None</td>\n      <td>10</td>\n      <td>0.432604</td>\n      <td>0.419580</td>\n      <td>8.740387</td>\n      <td>0.875912</td>\n    </tr>\n  </tbody>\n</table>\n<p>826410 rows × 9 columns</p>\n</div>"
     },
     "execution_count": 51,
     "metadata": {},
     "output_type": "execute_result"
    }
   ],
   "source": [
    "start = time()\n",
    "pkls = pkls[pkls['contour'].map(len) > 5] # need at least 5 points to quantify morphology\n",
    "pkls['Area'] = pkls['contour'].apply(lambda row: cntarea(row))\n",
    "pkls['AR'] = pkls['contour'].apply(lambda row: cntAR(row))\n",
    "pkls['Sol'] = pkls['contour'].apply(lambda row: cntExtent(row))\n",
    "pkls['Extent'] = pkls['contour'].apply(lambda row: cntEquiDia(row))\n",
    "pkls['EquiDia'] = pkls['contour'].apply(lambda row: cntsol(row))\n",
    "pkls = pkls.drop(['bbox','centroid','contour','type'], axis=1)\n",
    "print(round(time()-start),'seconds')\n",
    "pkls"
   ],
   "metadata": {
    "collapsed": false,
    "pycharm": {
     "name": "#%%\n"
    }
   }
  },
  {
   "cell_type": "code",
   "execution_count": 47,
   "outputs": [
    {
     "name": "stdout",
     "output_type": "stream",
     "text": [
      "0 seconds\n"
     ]
    },
    {
     "data": {
      "text/plain": "<Figure size 432x288 with 1 Axes>",
      "image/png": "[encoded data removed]"
     },
     "metadata": {
      "needs_background": "light"
     },
     "output_type": "display_data"
    }
   ],
   "source": [
    "from matplotlib import pyplot as plt\n",
    "start = time()\n",
    "plt.hist(pkls['celltype'])\n",
    "print(round(time()-start),'seconds')"
   ],
   "metadata": {
    "collapsed": false,
    "pycharm": {
     "name": "#%%\n"
    }
   }
  },
  {
   "cell_type": "code",
   "execution_count": 48,
   "outputs": [
    {
     "data": {
      "text/plain": "                            bbox                                 centroid  \\\n186     [[792, 689], [804, 697]]   [692.1428571428571, 797.8571428571429]   \n441     [[166, 515], [178, 614]]  [554.4595660749507, 171.17554240631165]   \n471     [[349, 382], [369, 392]]   [386.568345323741, 358.40287769784175]   \n604       [[486, 63], [504, 71]]                          [66.35, 494.42]   \n763     [[237, 750], [288, 864]]    [803.768094534712, 258.4992614475628]   \n...                          ...                                      ...   \n824895  [[915, 446], [930, 461]]   [451.9313725490196, 923.0098039215686]   \n824908  [[928, 455], [953, 483]]               [465.8, 939.7225806451613]   \n825166    [[58, 526], [72, 545]]   [535.1515151515151, 65.29292929292929]   \n825231  [[445, 708], [458, 758]]  [734.8089552238806, 451.20298507462684]   \n825306  [[512, 575], [523, 586]]    [579.987012987013, 517.0649350649351]   \n\n                                                  contour  type  celltype  \n186     [[694, 792], [692, 794], [691, 794], [690, 795...  None         1  \n441     [[521, 166], [520, 167], [517, 167], [516, 168...  None         1  \n471     [[385, 349], [384, 350], [384, 351], [383, 352...  None         1  \n604     [[68, 486], [66, 488], [65, 488], [64, 489], [...  None         1  \n763     [[751, 237], [750, 238], [753, 238], [754, 239...  None         1  \n...                                                   ...   ...       ...  \n824895  [[447, 915], [446, 916], [446, 921], [449, 924...  None         1  \n824908  [[459, 928], [458, 929], [456, 929], [455, 930...  None         1  \n825166  [[527, 58], [526, 59], [527, 60], [527, 61], [...  None         1  \n825231  [[753, 445], [752, 446], [750, 446], [749, 447...  None         1  \n825306  [[575, 512], [575, 516], [576, 516], [577, 517...  None         1  \n\n[6121 rows x 5 columns]",
      "text/html": "<div>\n<style scoped>\n    .dataframe tbody tr th:only-of-type {\n        vertical-align: middle;\n    }\n\n    .dataframe tbody tr th {\n        vertical-align: top;\n    }\n\n    .dataframe thead th {\n        text-align: right;\n    }\n</style>\n<table border=\"1\" class=\"dataframe\">\n  <thead>\n    <tr style=\"text-align: right;\">\n      <th></th>\n      <th>bbox</th>\n      <th>centroid</th>\n      <th>contour</th>\n      <th>type</th>\n      <th>celltype</th>\n    </tr>\n  </thead>\n  <tbody>\n    <tr>\n      <th>186</th>\n      <td>[[792, 689], [804, 697]]</td>\n      <td>[692.1428571428571, 797.8571428571429]</td>\n      <td>[[694, 792], [692, 794], [691, 794], [690, 795...</td>\n      <td>None</td>\n      <td>1</td>\n    </tr>\n    <tr>\n      <th>441</th>\n      <td>[[166, 515], [178, 614]]</td>\n      <td>[554.4595660749507, 171.17554240631165]</td>\n      <td>[[521, 166], [520, 167], [517, 167], [516, 168...</td>\n      <td>None</td>\n      <td>1</td>\n    </tr>\n    <tr>\n      <th>471</th>\n      <td>[[349, 382], [369, 392]]</td>\n      <td>[386.568345323741, 358.40287769784175]</td>\n      <td>[[385, 349], [384, 350], [384, 351], [383, 352...</td>\n      <td>None</td>\n      <td>1</td>\n    </tr>\n    <tr>\n      <th>604</th>\n      <td>[[486, 63], [504, 71]]</td>\n      <td>[66.35, 494.42]</td>\n      <td>[[68, 486], [66, 488], [65, 488], [64, 489], [...</td>\n      <td>None</td>\n      <td>1</td>\n    </tr>\n    <tr>\n      <th>763</th>\n      <td>[[237, 750], [288, 864]]</td>\n      <td>[803.768094534712, 258.4992614475628]</td>\n      <td>[[751, 237], [750, 238], [753, 238], [754, 239...</td>\n      <td>None</td>\n      <td>1</td>\n    </tr>\n    <tr>\n      <th>...</th>\n      <td>...</td>\n      <td>...</td>\n      <td>...</td>\n      <td>...</td>\n      <td>...</td>\n    </tr>\n    <tr>\n      <th>824895</th>\n      <td>[[915, 446], [930, 461]]</td>\n      <td>[451.9313725490196, 923.0098039215686]</td>\n      <td>[[447, 915], [446, 916], [446, 921], [449, 924...</td>\n      <td>None</td>\n      <td>1</td>\n    </tr>\n    <tr>\n      <th>824908</th>\n      <td>[[928, 455], [953, 483]]</td>\n      <td>[465.8, 939.7225806451613]</td>\n      <td>[[459, 928], [458, 929], [456, 929], [455, 930...</td>\n      <td>None</td>\n      <td>1</td>\n    </tr>\n    <tr>\n      <th>825166</th>\n      <td>[[58, 526], [72, 545]]</td>\n      <td>[535.1515151515151, 65.29292929292929]</td>\n      <td>[[527, 58], [526, 59], [527, 60], [527, 61], [...</td>\n      <td>None</td>\n      <td>1</td>\n    </tr>\n    <tr>\n      <th>825231</th>\n      <td>[[445, 708], [458, 758]]</td>\n      <td>[734.8089552238806, 451.20298507462684]</td>\n      <td>[[753, 445], [752, 446], [750, 446], [749, 447...</td>\n      <td>None</td>\n      <td>1</td>\n    </tr>\n    <tr>\n      <th>825306</th>\n      <td>[[512, 575], [523, 586]]</td>\n      <td>[579.987012987013, 517.0649350649351]</td>\n      <td>[[575, 512], [575, 516], [576, 516], [577, 517...</td>\n      <td>None</td>\n      <td>1</td>\n    </tr>\n  </tbody>\n</table>\n<p>6121 rows × 5 columns</p>\n</div>"
     },
     "execution_count": 48,
     "metadata": {},
     "output_type": "execute_result"
    }
   ],
   "source": [
    "bd1 = pkls[pkls['celltype']==1]"
   ],
   "metadata": {
    "collapsed": false,
    "pycharm": {
     "name": "#%%\n"
    }
   }
  },
  {
   "cell_type": "code",
   "execution_count": null,
   "outputs": [],
   "source": [
    "VamModel = {\n",
    "            \"N\": [],\n",
    "            \"bdrn\": [],\n",
    "            \"mdd\": [],\n",
    "            \"pc\": [],\n",
    "            \"clnum\": [],\n",
    "            \"pcnum\": [],\n",
    "            \"mincms\": [],\n",
    "            \"testmean\": [],\n",
    "            \"teststd\": [],\n",
    "            \"boxcoxlambda\": [],\n",
    "            \"C\": [],\n",
    "            \"Z\": []\n",
    "        }\n",
    "\n",
    "build_model = True\n",
    "B = bd1['contour']\n",
    "bdpc, VamModel = bdreg(B, N, VamModel, build_model)\n",
    "score, VamModel = pca_bdreg(bdpc, VamModel, True)\n",
    "pcnum = None # none is 20 by default\n",
    "IDX, IDX_dist, VamModel, goodness = clusterSM(outpth, score, bdpc, clnum, pcnum, VamModel, True, None, None,modelname)"
   ],
   "metadata": {
    "collapsed": false,
    "pycharm": {
     "name": "#%%\n"
    }
   }
  },
  {
   "cell_type": "code",
   "execution_count": null,
   "outputs": [],
   "source": [
    "if os.path.exists(os.path.join(*[outpth, modelname, modelname+'.pickle'])):\n",
    "    realtimedate = datetime.now().strftime('%Y-%m-%d_%H-%M-%S')\n",
    "    f = open(os.path.join(*[outpth, modelname, modelname+'_'+realtimedate+'.pickle']), 'wb')\n",
    "else:\n",
    "    f = open(os.path.join(*[outpth, modelname, modelname+'.pickle']), 'wb')\n",
    "pickle.dump(VamModel, f)\n",
    "f.close()"
   ],
   "metadata": {
    "collapsed": false,
    "pycharm": {
     "name": "#%% Save model\n"
    }
   }
  },
  {
   "cell_type": "code",
   "execution_count": null,
   "outputs": [],
   "source": [
    "experimental = False\n",
    "tag = ['corneum','spinosum','hairshaft','hairfollicle','smoothmuscle']"
   ],
   "metadata": {
    "collapsed": false,
    "pycharm": {
     "name": "#%%\n"
    }
   }
  },
  {
   "cell_type": "code",
   "execution_count": null,
   "outputs": [],
   "source": [
    "try:\n",
    "    f = open(modelpth, 'rb')\n",
    "except:\n",
    "    print('the model does not exist. please replace model name to the one you built')\n",
    "vampire_model = pickle.load(f)\n",
    "N = vampire_model['N']\n",
    "clnum = vampire_model['clnum']\n",
    "pcnum = vampire_model['pcnum']"
   ],
   "metadata": {
    "collapsed": false,
    "pycharm": {
     "name": "#%%\n"
    }
   }
  },
  {
   "cell_type": "code",
   "execution_count": null,
   "outputs": [],
   "source": [
    "for setidx, setpath in enumerate(setpaths2):\n",
    "    pkl = pd.read_pickle(os.path.join(setpath,'boundary.pkl'))\n",
    "    pkl['AR'] = pkl['contour'].apply(lambda row: cntAR(row))\n",
    "    pkl['Sol'] = pkl['contour'].apply(lambda row: cntExtent(row))\n",
    "    pkl['Extent'] = pkl['contour'].apply(lambda row: cntEquiDia(row))\n",
    "    pkl['EquiDia'] = pkl['contour'].apply(lambda row: cntsol(row))\n",
    "    pkl = pkl.drop(['bbox','centroid','contour','type'], axis=1)\n",
    "    B = pkl['contour']\n",
    "\n",
    "    bdpc, vampire_model = bdreg(B, N, vampire_model, build_model)\n",
    "    score, vampire_model = pca_bdreg(bdpc, vampire_model, build_model)\n",
    "    IDX, IDX_dist, VamModel, goodness = clusterSM(outpth, score, bdpc, clnum, pcnum, vampire_model, False, condition[setidx], setID[setidx],modelname)\n",
    "\n",
    "    datasheet = 'VAMPIRE datasheet ' + tag + '.csv'\n",
    "    goodness = goodness.transpose()\n",
    "    pkl['Shape mode']= pd.Series(IDX)\n",
    "    pkl['Distance from cluster center'] = pd.Series(IDX_dist)\n",
    "    for idx,column in enumerate(goodness):\n",
    "        pkl['probability of shape mode '+str(idx)] = column\n",
    "    pkl.to_csv(os.path.join(setpath, datasheet), index=False)"
   ],
   "metadata": {
    "collapsed": false,
    "pycharm": {
     "name": "#%%\n"
    }
   }
  },
  {
   "cell_type": "code",
   "execution_count": null,
   "outputs": [],
   "source": [
    "# update_csv(IDX, IDX_dist, tag[setidx], setpath, goodness=goodness)"
   ],
   "metadata": {
    "collapsed": false,
    "pycharm": {
     "name": "#%%\n"
    }
   }
  }
 ],
 "metadata": {
  "kernelspec": {
   "display_name": "Python 3",
   "language": "python",
   "name": "python3"
  },
  "language_info": {
   "codemirror_mode": {
    "name": "ipython",
    "version": 2
   },
   "file_extension": ".py",
   "mimetype": "text/x-python",
   "name": "python",
   "nbconvert_exporter": "python",
   "pygments_lexer": "ipython2",
   "version": "2.7.6"
  }
 },
 "nbformat": 4,
 "nbformat_minor": 0
}