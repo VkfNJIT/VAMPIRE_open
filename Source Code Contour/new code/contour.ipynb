{
 "cells": [
  {
   "cell_type": "code",
   "execution_count": 1,
   "outputs": [],
   "source": [
    "import pandas as pd\n",
    "import glob\n",
    "import os\n",
    "from __future__ import division\n",
    "from datetime import datetime\n",
    "import pickle\n",
    "from PIL import Image\n",
    "from VAMPIRE_backend import cntarea,cntAR,cntExtent,cntEquiDia,cntsol,bdreg,pca_bdreg,clusterSM,update_csv\n",
    "from time import time\n",
    "import numpy as np"
   ],
   "metadata": {
    "collapsed": false,
    "pycharm": {
     "name": "#%%\n"
    }
   }
  },
  {
   "cell_type": "code",
   "execution_count": 2,
   "outputs": [],
   "source": [
    "N=10 #equidistant points along cell boundary\n",
    "clnum = 10\n",
    "modelname='testmodel'\n",
    "outpth = r'C:\\Users\\kyuha\\PycharmProjects\\VAMPIRE_open\\Source Code Contour\\new code'"
   ],
   "metadata": {
    "collapsed": false,
    "pycharm": {
     "name": "#%% Build model\n"
    }
   }
  },
  {
   "cell_type": "code",
   "execution_count": 3,
   "outputs": [],
   "source": [
    "modelpth = r'C:\\Users\\kyuha\\PycharmProjects\\VAMPIRE_open\\Source Code Contour\\new code\\epidermis\\epidermis.pickle'\n",
    "tilepth = r'\\\\motherserverdw\\Kyu_Sync\\Research\\Database\\Hamamatsu Nanozoomer Temporary Repository\\IMCROP20x\\IMCROP_processed\\TILE'\n",
    "setpaths = glob.glob(os.path.join(tilepth,'*'))\n",
    "setID = [os.path.basename(_).split('_')[1] for _ in setpaths] #patient id\n",
    "condition = [os.path.basename(_).split('_')[3] for _ in setpaths] #section id\n",
    "setpaths = [os.path.join(*[_,'out','json']) for _ in setpaths]\n",
    "setpaths2 = setpaths[0:1]"
   ],
   "metadata": {
    "collapsed": false,
    "pycharm": {
     "name": "#%% Apply model\n"
    }
   }
  },
  {
   "cell_type": "code",
   "execution_count": 4,
   "outputs": [],
   "source": [
    "def cellclass(cnt):\n",
    "    celltype = dlim.getpixel((round(cnt[0]),round(cnt[1])))\n",
    "    return celltype"
   ],
   "metadata": {
    "collapsed": false,
    "pycharm": {
     "name": "#%%\n"
    }
   }
  },
  {
   "cell_type": "code",
   "execution_count": 5,
   "outputs": [
    {
     "name": "stdout",
     "output_type": "stream",
     "text": [
      "\\\\motherserverdw\\Kyu_Sync\\Research\\Database\\Hamamatsu Nanozoomer Temporary Repository\\IMCROP20x\\IMCROP_processed\\TILE\\imID_100_sec_1\\out\\json\\boundary.pkl\n",
      "0 14 seconds\n"
     ]
    }
   ],
   "source": [
    "jsnucs = pd.DataFrame()\n",
    "imuniques=[]\n",
    "for setidx, setpath in enumerate(setpaths[0:1]):\n",
    "    # patientdir = r'\\\\motherserverdw\\Kyu_Sync\\Research\\Database\\Hamamatsu Nanozoomer Temporary Repository\\IMCROP20x\\IMCROP_processed\\TILE\\imID_8_sec_1'\n",
    "    # jsondir = os.path.join(*[patientdir,'out','json'])\n",
    "    start = time()\n",
    "    jsondir = setpath\n",
    "    # if os.path.exists(os.path.join(jsondir,'boundary.pkl')):continue\n",
    "    jsons = glob.glob(os.path.join(jsondir,'*json'))\n",
    "    dldir = os.path.dirname(os.path.dirname(jsondir)).replace('TILE','DLTILE')\n",
    "    # dls = glob.glob(os.path.join(dldir,'*tif'))\n",
    "    jsnucs = pd.DataFrame()\n",
    "    if len(jsons)==0:\n",
    "        print(setidx)\n",
    "        continue\n",
    "    for js in jsons:\n",
    "        jss = pd.read_json(js)\n",
    "        imid = os.path.splitext(os.path.basename(js))[0]\n",
    "        dl = os.path.join(dldir,imid+'.tif')\n",
    "        dlim = Image.open(dl)\n",
    "        imuniques.append(np.max(np.unique(dlim)))\n",
    "        jsnuc = jss['nuc'].apply(pd.Series)\n",
    "        if len(jsnuc)==0:continue\n",
    "        jsnuc = jsnuc.drop(['type_prob'], axis=1).reset_index(drop=True)\n",
    "        jsnuc['celltype'] = jsnuc['centroid'].apply(lambda row: cellclass(row))\n",
    "        jsnucs = pd.concat([jsnucs,jsnuc],ignore_index=True)\n",
    "    jsnucs = jsnucs[jsnucs['contour'].map(len) > 5]\n",
    "    jsnucs.to_pickle(os.path.join(jsondir,'boundary.pkl'))\n",
    "    print(os.path.join(jsondir,'boundary.pkl'))\n",
    "    print(setidx,round(time()-start),'seconds')"
   ],
   "metadata": {
    "collapsed": false,
    "pycharm": {
     "name": "#%% list all json files\n"
    }
   }
  },
  {
   "cell_type": "code",
   "execution_count": 9,
   "outputs": [
    {
     "data": {
      "text/plain": "                           bbox                                  centroid  \\\n0      [[965, 965], [981, 987]]    [975.4083969465648, 972.3931297709923]   \n1      [[957, 881], [999, 948]]    [911.4903100775193, 976.8914728682171]   \n2      [[982, 954], [996, 971]]    [961.8663101604278, 988.4652406417113]   \n3          [[0, 932], [9, 947]]    [938.7142857142857, 3.789915966386554]   \n4        [[30, 927], [40, 942]]   [934.1008403361344, 35.016806722689076]   \n...                         ...                                       ...   \n12839  [[438, 147], [448, 158]]   [152.15853658536585, 442.6341463414634]   \n12840  [[475, 151], [485, 166]]  [157.72941176470587, 479.81176470588235]   \n12841  [[496, 456], [509, 471]]   [462.07766990291265, 501.3495145631068]   \n12842  [[537, 424], [546, 433]]   [427.89473684210526, 540.6666666666666]   \n12843  [[630, 193], [638, 203]]   [196.82758620689654, 633.3620689655172]   \n\n                                                 contour  type  celltype  \n0      [[973, 965], [972, 966], [971, 966], [970, 967...  None         2  \n1      [[944, 957], [943, 958], [940, 958], [939, 959...  None         2  \n2      [[960, 982], [959, 983], [958, 983], [957, 984...  None         2  \n3      [[933, 0], [933, 1], [932, 2], [932, 6], [934,...  None         2  \n4      [[933, 30], [932, 31], [930, 31], [927, 34], [...  None         2  \n...                                                  ...   ...       ...  \n12839  [[151, 438], [149, 440], [148, 440], [147, 441...  None        10  \n12840  [[160, 475], [160, 476], [159, 477], [158, 477...  None        10  \n12841  [[463, 496], [462, 497], [461, 497], [461, 498...  None        10  \n12842  [[425, 537], [424, 538], [424, 541], [425, 541...  None        10  \n12843  [[195, 630], [194, 631], [193, 631], [193, 635...  None        10  \n\n[12844 rows x 5 columns]",
      "text/html": "<div>\n<style scoped>\n    .dataframe tbody tr th:only-of-type {\n        vertical-align: middle;\n    }\n\n    .dataframe tbody tr th {\n        vertical-align: top;\n    }\n\n    .dataframe thead th {\n        text-align: right;\n    }\n</style>\n<table border=\"1\" class=\"dataframe\">\n  <thead>\n    <tr style=\"text-align: right;\">\n      <th></th>\n      <th>bbox</th>\n      <th>centroid</th>\n      <th>contour</th>\n      <th>type</th>\n      <th>celltype</th>\n    </tr>\n  </thead>\n  <tbody>\n    <tr>\n      <th>0</th>\n      <td>[[965, 965], [981, 987]]</td>\n      <td>[975.4083969465648, 972.3931297709923]</td>\n      <td>[[973, 965], [972, 966], [971, 966], [970, 967...</td>\n      <td>None</td>\n      <td>2</td>\n    </tr>\n    <tr>\n      <th>1</th>\n      <td>[[957, 881], [999, 948]]</td>\n      <td>[911.4903100775193, 976.8914728682171]</td>\n      <td>[[944, 957], [943, 958], [940, 958], [939, 959...</td>\n      <td>None</td>\n      <td>2</td>\n    </tr>\n    <tr>\n      <th>2</th>\n      <td>[[982, 954], [996, 971]]</td>\n      <td>[961.8663101604278, 988.4652406417113]</td>\n      <td>[[960, 982], [959, 983], [958, 983], [957, 984...</td>\n      <td>None</td>\n      <td>2</td>\n    </tr>\n    <tr>\n      <th>3</th>\n      <td>[[0, 932], [9, 947]]</td>\n      <td>[938.7142857142857, 3.789915966386554]</td>\n      <td>[[933, 0], [933, 1], [932, 2], [932, 6], [934,...</td>\n      <td>None</td>\n      <td>2</td>\n    </tr>\n    <tr>\n      <th>4</th>\n      <td>[[30, 927], [40, 942]]</td>\n      <td>[934.1008403361344, 35.016806722689076]</td>\n      <td>[[933, 30], [932, 31], [930, 31], [927, 34], [...</td>\n      <td>None</td>\n      <td>2</td>\n    </tr>\n    <tr>\n      <th>...</th>\n      <td>...</td>\n      <td>...</td>\n      <td>...</td>\n      <td>...</td>\n      <td>...</td>\n    </tr>\n    <tr>\n      <th>12839</th>\n      <td>[[438, 147], [448, 158]]</td>\n      <td>[152.15853658536585, 442.6341463414634]</td>\n      <td>[[151, 438], [149, 440], [148, 440], [147, 441...</td>\n      <td>None</td>\n      <td>10</td>\n    </tr>\n    <tr>\n      <th>12840</th>\n      <td>[[475, 151], [485, 166]]</td>\n      <td>[157.72941176470587, 479.81176470588235]</td>\n      <td>[[160, 475], [160, 476], [159, 477], [158, 477...</td>\n      <td>None</td>\n      <td>10</td>\n    </tr>\n    <tr>\n      <th>12841</th>\n      <td>[[496, 456], [509, 471]]</td>\n      <td>[462.07766990291265, 501.3495145631068]</td>\n      <td>[[463, 496], [462, 497], [461, 497], [461, 498...</td>\n      <td>None</td>\n      <td>10</td>\n    </tr>\n    <tr>\n      <th>12842</th>\n      <td>[[537, 424], [546, 433]]</td>\n      <td>[427.89473684210526, 540.6666666666666]</td>\n      <td>[[425, 537], [424, 538], [424, 541], [425, 541...</td>\n      <td>None</td>\n      <td>10</td>\n    </tr>\n    <tr>\n      <th>12843</th>\n      <td>[[630, 193], [638, 203]]</td>\n      <td>[196.82758620689654, 633.3620689655172]</td>\n      <td>[[195, 630], [194, 631], [193, 631], [193, 635...</td>\n      <td>None</td>\n      <td>10</td>\n    </tr>\n  </tbody>\n</table>\n<p>12844 rows × 5 columns</p>\n</div>"
     },
     "execution_count": 9,
     "metadata": {},
     "output_type": "execute_result"
    }
   ],
   "source": [
    "jsnucs"
   ],
   "metadata": {
    "collapsed": false,
    "pycharm": {
     "name": "#%%\n"
    }
   }
  },
  {
   "cell_type": "code",
   "execution_count": 10,
   "outputs": [
    {
     "data": {
      "text/plain": "array([ 0,  1,  2,  3,  4,  5,  6,  7,  8,  9, 10, 11, 12, 18, 20],\n      dtype=int64)"
     },
     "execution_count": 10,
     "metadata": {},
     "output_type": "execute_result"
    }
   ],
   "source": [
    "np.unique(jsnucs['celltype'])"
   ],
   "metadata": {
    "collapsed": false,
    "pycharm": {
     "name": "#%%\n"
    }
   }
  },
  {
   "cell_type": "code",
   "execution_count": 11,
   "outputs": [
    {
     "data": {
      "text/plain": "array([ 9, 10, 11, 12], dtype=uint8)"
     },
     "execution_count": 11,
     "metadata": {},
     "output_type": "execute_result"
    }
   ],
   "source": [
    "np.unique(dlim)"
   ],
   "metadata": {
    "collapsed": false,
    "pycharm": {
     "name": "#%%\n"
    }
   }
  },
  {
   "cell_type": "code",
   "execution_count": null,
   "outputs": [],
   "source": [
    "start = time()\n",
    "pkls = pd.DataFrame()\n",
    "for setidx, setpath in enumerate(setpaths):\n",
    "    start = time()\n",
    "    if not os.path.exists(os.path.join(setpath,'boundary.pkl')):continue\n",
    "    pkl = pd.read_pickle(os.path.join(setpath,'boundary.pkl'))\n",
    "    pkls = pd.concat([pkls,pkl],ignore_index=True)\n",
    "print(round(time()-start),'seconds')\n",
    "pkls"
   ],
   "metadata": {
    "collapsed": false,
    "pycharm": {
     "name": "#%%\n"
    }
   }
  },
  {
   "cell_type": "code",
   "execution_count": null,
   "outputs": [],
   "source": [
    "start = time()\n",
    "pkls = pkls[pkls['contour'].map(len) > 5] # need at least 5 points to quantify morphology\n",
    "pkls['Area'] = pkls['contour'].apply(lambda row: cntarea(row))\n",
    "pkls['AR'] = pkls['contour'].apply(lambda row: cntAR(row))\n",
    "pkls['Sol'] = pkls['contour'].apply(lambda row: cntExtent(row))\n",
    "pkls['Extent'] = pkls['contour'].apply(lambda row: cntEquiDia(row))\n",
    "pkls['EquiDia'] = pkls['contour'].apply(lambda row: cntsol(row))\n",
    "pkls = pkls.drop(['bbox','centroid','type'], axis=1)\n",
    "print(round(time()-start),'seconds')\n",
    "pkls"
   ],
   "metadata": {
    "collapsed": false,
    "pycharm": {
     "name": "#%%\n"
    }
   }
  },
  {
   "cell_type": "code",
   "execution_count": null,
   "outputs": [],
   "source": [
    "pkls = pkls[pkls['celltype']< 12]\n",
    "pkls"
   ],
   "metadata": {
    "collapsed": false,
    "pycharm": {
     "name": "#%%\n"
    }
   }
  },
  {
   "cell_type": "code",
   "execution_count": null,
   "outputs": [],
   "source": [
    "lens=[]\n",
    "for i in range(13):\n",
    "    lens.append(len(pkls[pkls['celltype']==i]))\n",
    "lens"
   ],
   "metadata": {
    "collapsed": false,
    "pycharm": {
     "name": "#%%\n"
    }
   }
  },
  {
   "cell_type": "code",
   "execution_count": null,
   "outputs": [],
   "source": [
    "from matplotlib import pyplot as plt\n",
    "start = time()\n",
    "a=plt.hist(pkls['celltype'])\n",
    "print(round(time()-start),'seconds')\n",
    "a"
   ],
   "metadata": {
    "collapsed": false,
    "pycharm": {
     "name": "#%%\n"
    }
   }
  },
  {
   "cell_type": "code",
   "execution_count": null,
   "outputs": [],
   "source": [
    "import numpy as np\n",
    "np.unique(pkls['celltype'])"
   ],
   "metadata": {
    "collapsed": false,
    "pycharm": {
     "name": "#%%\n"
    }
   }
  },
  {
   "cell_type": "code",
   "execution_count": null,
   "outputs": [],
   "source": [
    "np.histogram(pkls['celltype'],bins=range(12))"
   ],
   "metadata": {
    "collapsed": false,
    "pycharm": {
     "name": "#%%\n"
    }
   }
  },
  {
   "cell_type": "code",
   "execution_count": null,
   "outputs": [],
   "source": [
    "tags = ['corneum','spinosum','hairshaft','hairfollicle','smoothmuscle','oil','sweat','nerve','blood','ECM','fat']\n",
    "for idx,tag in enumerate(tags):\n",
    "    modelname = tag\n",
    "    bd1 = pkls[pkls['celltype']==idx+1].reset_index()\n",
    "    B=bd1['contour']\n",
    "    VamModel = {\n",
    "                \"N\": [],\n",
    "                \"bdrn\": [],\n",
    "                \"mdd\": [],\n",
    "                \"pc\": [],\n",
    "                \"clnum\": [],\n",
    "                \"pcnum\": [],\n",
    "                \"mincms\": [],\n",
    "                \"testmean\": [],\n",
    "                \"teststd\": [],\n",
    "                \"boxcoxlambda\": [],\n",
    "                \"C\": [],\n",
    "                \"Z\": []\n",
    "            }\n",
    "\n",
    "    build_model = True\n",
    "    bdpc, VamModel = bdreg(B, N, VamModel, build_model)\n",
    "    score, VamModel = pca_bdreg(bdpc, VamModel, True)\n",
    "    pcnum = None # none is 20 by default\n",
    "    IDX, IDX_dist, VamModel, goodness = clusterSM(outpth, score, bdpc, clnum, pcnum, VamModel, True, None, None,modelname)\n",
    "\n",
    "\n",
    "    if os.path.exists(os.path.join(*[outpth, modelname, modelname+'.pickle'])):\n",
    "        realtimedate = datetime.now().strftime('%Y-%m-%d_%H-%M-%S')\n",
    "        f = open(os.path.join(*[outpth, modelname, modelname+'_'+realtimedate+'.pickle']), 'wb')\n",
    "    else:\n",
    "        f = open(os.path.join(*[outpth, modelname, modelname+'.pickle']), 'wb')\n",
    "    pickle.dump(VamModel, f)\n",
    "    f.close()\n"
   ],
   "metadata": {
    "collapsed": false,
    "pycharm": {
     "name": "#%%\n",
     "is_executing": true
    }
   }
  },
  {
   "cell_type": "code",
   "execution_count": null,
   "outputs": [],
   "source": [
    "modelname = 'epidermis'\n",
    "bd1 = pkls[pkls['celltype']==3].reset_index()\n",
    "B=bd1['contour']\n",
    "VamModel = {\n",
    "            \"N\": [],\n",
    "            \"bdrn\": [],\n",
    "            \"mdd\": [],\n",
    "            \"pc\": [],\n",
    "            \"clnum\": [],\n",
    "            \"pcnum\": [],\n",
    "            \"mincms\": [],\n",
    "            \"testmean\": [],\n",
    "            \"teststd\": [],\n",
    "            \"boxcoxlambda\": [],\n",
    "            \"C\": [],\n",
    "            \"Z\": []\n",
    "        }\n",
    "\n",
    "build_model = True\n",
    "bdpc, VamModel = bdreg(B, N, VamModel, build_model)\n",
    "score, VamModel = pca_bdreg(bdpc, VamModel, True)\n",
    "pcnum = None # none is 20 by default\n",
    "IDX, IDX_dist, VamModel, goodness = clusterSM(outpth, score, bdpc, clnum, pcnum, VamModel, True, None, None,modelname)\n",
    "\n",
    "\n",
    "if os.path.exists(os.path.join(*[outpth, modelname, modelname+'.pickle'])):\n",
    "    realtimedate = datetime.now().strftime('%Y-%m-%d_%H-%M-%S')\n",
    "    f = open(os.path.join(*[outpth, modelname, modelname+'_'+realtimedate+'.pickle']), 'wb')\n",
    "else:\n",
    "    f = open(os.path.join(*[outpth, modelname, modelname+'.pickle']), 'wb')\n",
    "pickle.dump(VamModel, f)\n",
    "f.close()"
   ],
   "metadata": {
    "collapsed": false,
    "pycharm": {
     "name": "#%%\n"
    }
   }
  },
  {
   "cell_type": "code",
   "execution_count": null,
   "outputs": [],
   "source": [
    "experimental = False\n"
   ],
   "metadata": {
    "collapsed": false,
    "pycharm": {
     "name": "#%%\n"
    }
   }
  },
  {
   "cell_type": "code",
   "execution_count": null,
   "outputs": [],
   "source": [
    "modelpth = r'C:\\Users\\kyuha\\PycharmProjects\\VAMPIRE_open\\Source Code Contour\\new code\\epidermis\\epidermis.pickle'\n",
    "try:\n",
    "    f = open(modelpth, 'rb')\n",
    "except:\n",
    "    print('the model does not exist. please replace model name to the one you built')\n",
    "vampire_model = pickle.load(f)\n",
    "N = vampire_model['N']\n",
    "clnum = vampire_model['clnum']\n",
    "pcnum = vampire_model['pcnum']"
   ],
   "metadata": {
    "collapsed": false,
    "pycharm": {
     "name": "#%%\n"
    }
   }
  },
  {
   "cell_type": "code",
   "execution_count": null,
   "outputs": [],
   "source": [
    "for setidx, setpath in enumerate(setpaths[12:]):\n",
    "    try:\n",
    "        print(setidx,setpath)\n",
    "        pkl = pd.read_pickle(os.path.join(setpath,'boundary.pkl'))\n",
    "        pkl['AR'] = pkl['contour'].apply(lambda row: cntAR(row))\n",
    "        pkl['Sol'] = pkl['contour'].apply(lambda row: cntExtent(row))\n",
    "        pkl['Extent'] = pkl['contour'].apply(lambda row: cntEquiDia(row))\n",
    "        pkl['EquiDia'] = pkl['contour'].apply(lambda row: cntsol(row))\n",
    "\n",
    "        B = pkl['contour']\n",
    "        pkl = pkl.drop(['bbox','centroid','contour','type'], axis=1)\n",
    "        bdpc, vampire_model = bdreg(B, N, vampire_model, build_model)\n",
    "        score, vampire_model = pca_bdreg(bdpc, vampire_model, build_model)\n",
    "        IDX, IDX_dist, VamModel, goodness = clusterSM(outpth, score, bdpc, clnum, pcnum, vampire_model, False, condition[setidx], setID[setidx],modelname)\n",
    "\n",
    "        datasheet = 'VAMPIRE datasheet ' + tag + '.csv'\n",
    "        goodness = goodness.transpose()\n",
    "        pkl['Shape mode']= pd.Series(IDX)\n",
    "        pkl['Distance from cluster center'] = pd.Series(IDX_dist)\n",
    "        for idx,column in enumerate(goodness):\n",
    "            pkl['probability of shape mode '+str(idx)] = column\n",
    "        pkl.to_csv(os.path.join(setpath, datasheet), index=False)\n",
    "    except: continue"
   ],
   "metadata": {
    "collapsed": false,
    "pycharm": {
     "name": "#%%\n"
    }
   }
  },
  {
   "cell_type": "code",
   "execution_count": null,
   "outputs": [],
   "source": [
    "# update_csv(IDX, IDX_dist, tag[setidx], setpath, goodness=goodness)"
   ],
   "metadata": {
    "collapsed": false,
    "pycharm": {
     "name": "#%%\n"
    }
   }
  }
 ],
 "metadata": {
  "kernelspec": {
   "display_name": "Python 3",
   "language": "python",
   "name": "python3"
  },
  "language_info": {
   "codemirror_mode": {
    "name": "ipython",
    "version": 2
   },
   "file_extension": ".py",
   "mimetype": "text/x-python",
   "name": "python",
   "nbconvert_exporter": "python",
   "pygments_lexer": "ipython2",
   "version": "2.7.6"
  }
 },
 "nbformat": 4,
 "nbformat_minor": 0
}