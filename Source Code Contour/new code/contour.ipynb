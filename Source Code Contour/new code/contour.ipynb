{
 "cells": [
  {
   "cell_type": "code",
   "execution_count": 7,
   "outputs": [],
   "source": [
    "from __future__ import division\n",
    "import pandas as pd\n",
    "import glob\n",
    "import os\n",
    "from datetime import datetime\n",
    "import pickle\n",
    "from PIL import Image\n",
    "from VAMPIRE_backend import cntarea,cntAR,cntExtent,cntEquiDia,cntsol,bdreg,pca_bdreg,clusterSM,update_csv\n",
    "from time import time\n",
    "import numpy as np\n",
    "from matplotlib import pyplot as plt"
   ],
   "metadata": {
    "collapsed": false,
    "pycharm": {
     "name": "#%%\n"
    }
   }
  },
  {
   "cell_type": "code",
   "execution_count": 8,
   "outputs": [],
   "source": [
    "N=50 #equidistant points along cell boundary\n",
    "clnum = 10\n",
    "modelname='testmodel4'\n",
    "outpth = r'C:\\Users\\kyuha\\PycharmProjects\\VAMPIRE_open\\Source Code Contour\\new code'"
   ],
   "metadata": {
    "collapsed": false,
    "pycharm": {
     "name": "#%% Build model\n"
    }
   }
  },
  {
   "cell_type": "code",
   "execution_count": 9,
   "outputs": [],
   "source": [
    "modelpth = r'C:\\Users\\kyuha\\PycharmProjects\\VAMPIRE_open\\Source Code Contour\\new code\\{}.pickle'.format(modelname)\n",
    "tilepth = r'\\\\fatherserverdw\\Q\\research\\images\\skin_aging\\hovernet_tile\\TILE'\n",
    "setpaths = glob.glob(os.path.join(tilepth,'*'))\n",
    "setID = [os.path.basename(_).split('_')[1] for _ in setpaths] #patient id\n",
    "condition = [os.path.basename(_).split('_')[3] for _ in setpaths] #section id\n",
    "setpaths = [os.path.join(*[_,'out','json']) for _ in setpaths]"
   ],
   "metadata": {
    "collapsed": false,
    "pycharm": {
     "name": "#%% Apply model\n"
    }
   }
  },
  {
   "cell_type": "code",
   "execution_count": 10,
   "outputs": [],
   "source": [
    "def cellclass(cnt):\n",
    "    celltype = dlim.getpixel((round(cnt[0]),round(cnt[1])))\n",
    "    return celltype"
   ],
   "metadata": {
    "collapsed": false,
    "pycharm": {
     "name": "#%%\n"
    }
   }
  },
  {
   "cell_type": "code",
   "execution_count": 11,
   "outputs": [
    {
     "ename": "UnidentifiedImageError",
     "evalue": "cannot identify image file '\\\\\\\\fatherserverdw\\\\Q\\\\research\\\\images\\\\skin_aging\\\\hovernet_tile\\\\DLTILE20X\\\\imID_205_sec_3\\\\317.tif'",
     "output_type": "error",
     "traceback": [
      "\u001B[1;31m---------------------------------------------------------------------------\u001B[0m",
      "\u001B[1;31mUnidentifiedImageError\u001B[0m                    Traceback (most recent call last)",
      "Input \u001B[1;32mIn [11]\u001B[0m, in \u001B[0;36m<module>\u001B[1;34m\u001B[0m\n\u001B[1;32m----> 1\u001B[0m ttt \u001B[38;5;241m=\u001B[39m \u001B[43mImage\u001B[49m\u001B[38;5;241;43m.\u001B[39;49m\u001B[43mopen\u001B[49m\u001B[43m(\u001B[49m\u001B[38;5;124;43mr\u001B[39;49m\u001B[38;5;124;43m'\u001B[39;49m\u001B[38;5;130;43;01m\\\\\u001B[39;49;00m\u001B[38;5;124;43mfatherserverdw\u001B[39;49m\u001B[38;5;124;43m\\\u001B[39;49m\u001B[38;5;124;43mQ\u001B[39;49m\u001B[38;5;124;43m\\\u001B[39;49m\u001B[38;5;124;43mresearch\u001B[39;49m\u001B[38;5;124;43m\\\u001B[39;49m\u001B[38;5;124;43mimages\u001B[39;49m\u001B[38;5;124;43m\\\u001B[39;49m\u001B[38;5;124;43mskin_aging\u001B[39;49m\u001B[38;5;124;43m\\\u001B[39;49m\u001B[38;5;124;43mhovernet_tile\u001B[39;49m\u001B[38;5;124;43m\\\u001B[39;49m\u001B[38;5;124;43mDLTILE20X\u001B[39;49m\u001B[38;5;124;43m\\\u001B[39;49m\u001B[38;5;124;43mimID_205_sec_3\u001B[39;49m\u001B[38;5;124;43m\\\u001B[39;49m\u001B[38;5;124;43m317.tif\u001B[39;49m\u001B[38;5;124;43m'\u001B[39;49m\u001B[43m)\u001B[49m\n",
      "File \u001B[1;32mC:\\ProgramData\\Anaconda3\\envs\\mrx\\lib\\site-packages\\PIL\\Image.py:3008\u001B[0m, in \u001B[0;36mopen\u001B[1;34m(fp, mode, formats)\u001B[0m\n\u001B[0;32m   3006\u001B[0m \u001B[38;5;28;01mfor\u001B[39;00m message \u001B[38;5;129;01min\u001B[39;00m accept_warnings:\n\u001B[0;32m   3007\u001B[0m     warnings\u001B[38;5;241m.\u001B[39mwarn(message)\n\u001B[1;32m-> 3008\u001B[0m \u001B[38;5;28;01mraise\u001B[39;00m UnidentifiedImageError(\n\u001B[0;32m   3009\u001B[0m     \u001B[38;5;124m\"\u001B[39m\u001B[38;5;124mcannot identify image file \u001B[39m\u001B[38;5;132;01m%r\u001B[39;00m\u001B[38;5;124m\"\u001B[39m \u001B[38;5;241m%\u001B[39m (filename \u001B[38;5;28;01mif\u001B[39;00m filename \u001B[38;5;28;01melse\u001B[39;00m fp)\n\u001B[0;32m   3010\u001B[0m )\n",
      "\u001B[1;31mUnidentifiedImageError\u001B[0m: cannot identify image file '\\\\\\\\fatherserverdw\\\\Q\\\\research\\\\images\\\\skin_aging\\\\hovernet_tile\\\\DLTILE20X\\\\imID_205_sec_3\\\\317.tif'"
     ]
    }
   ],
   "source": [
    "ttt = Image.open(r'\\\\fatherserverdw\\Q\\research\\images\\skin_aging\\hovernet_tile\\DLTILE20X\\imID_205_sec_3\\317.tif')"
   ],
   "metadata": {
    "collapsed": false,
    "pycharm": {
     "name": "#%%\n"
    }
   }
  },
  {
   "cell_type": "code",
   "execution_count": null,
   "outputs": [],
   "source": [
    "jsnucs = pd.DataFrame()\n",
    "imuniques=[]\n",
    "for setidx, setpath in enumerate(setpaths[0:100]):\n",
    "    # patientdir = r'\\\\motherserverdw\\Kyu_Sync\\Research\\Database\\Hamamatsu Nanozoomer Temporary Repository\\IMCROP20x\\IMCROP_processed\\TILE\\imID_8_sec_1'\n",
    "    # jsondir = os.path.join(*[patientdir,'out','json'])\n",
    "    start = time()\n",
    "    jsondir = setpath\n",
    "    # if os.path.exists(os.path.join(jsondir,'boundary.pkl')):continue\n",
    "    jsons = glob.glob(os.path.join(jsondir,'*json'))\n",
    "    dldir = os.path.dirname(os.path.dirname(jsondir)).replace('TILE','DLTILE20X')\n",
    "    # dls = glob.glob(os.path.join(dldir,'*tif'))\n",
    "    jsnucs = pd.DataFrame()\n",
    "    if len(jsons)==0:\n",
    "        print(setidx,'no json files detected')\n",
    "        continue\n",
    "    for js in jsons:\n",
    "        jss = pd.read_json(js)\n",
    "        imid = os.path.splitext(os.path.basename(js))[0]\n",
    "        dl = os.path.join(dldir,imid+'.tif')\n",
    "        try:\n",
    "            dlim = Image.open(dl)\n",
    "        except:\n",
    "            print('failed to open DL image: ', dl)\n",
    "            continue\n",
    "        try:\n",
    "            imuniques.append(np.max(np.unique(dlim)))\n",
    "        except:\n",
    "            imuniques.append(np.max(np.unique(dlim)))\n",
    "        jsnuc = jss['nuc'].apply(pd.Series)\n",
    "        if len(jsnuc)==0:continue\n",
    "        jsnuc = jsnuc.drop(['type_prob'], axis=1).reset_index(drop=True)\n",
    "        jsnuc['celltype'] = jsnuc['centroid'].apply(lambda row: cellclass(row))\n",
    "        jsnuc['Area'] = jsnuc['contour'].apply(lambda row: cntarea(row))\n",
    "        jsnuc['AR'] = jsnuc['contour'].apply(lambda row: cntAR(row))\n",
    "        jsnuc['Sol'] = jsnuc['contour'].apply(lambda row: cntsol(row))\n",
    "        jsnuc['Extent'] = jsnuc['contour'].apply(lambda row: cntExtent(row))\n",
    "        jsnuc['EquiDia'] = jsnuc['contour'].apply(lambda row: cntEquiDia(row))\n",
    "        jsnuc = jsnuc.drop(['bbox','centroid','type'], axis=1)\n",
    "        dlim.close()\n",
    "        jsnucs = pd.concat([jsnucs,jsnuc],ignore_index=True)\n",
    "    jsnucs = jsnucs[jsnucs['contour'].map(len) > 5]\n",
    "    jsnucs.to_pickle(os.path.join(jsondir,'boundary.pkl'))\n",
    "    print(os.path.join(jsondir,'boundary.pkl'))\n",
    "    print(setidx,round(time()-start),'seconds')"
   ],
   "metadata": {
    "collapsed": false,
    "pycharm": {
     "name": "#%% list all json files\n"
    }
   }
  },
  {
   "cell_type": "code",
   "execution_count": null,
   "outputs": [],
   "source": [
    "start = time()\n",
    "pkls = []\n",
    "for setpath in setpaths:\n",
    "    start = time()\n",
    "    if not os.path.exists(os.path.join(setpath,'boundary.pkl')):continue\n",
    "    pkl = pd.read_pickle(os.path.join(setpath,'boundary.pkl'))\n",
    "    pkls.append(pkl)\n",
    "pkls = pd.concat(pkls,ignore_index=True)\n",
    "print(round(time()-start),'seconds')\n",
    "pkls"
   ],
   "metadata": {
    "collapsed": false,
    "pycharm": {
     "name": "#%%\n"
    }
   }
  },
  {
   "cell_type": "code",
   "execution_count": null,
   "outputs": [],
   "source": [
    "np.unique(pkls['celltype'])"
   ],
   "metadata": {
    "collapsed": false,
    "pycharm": {
     "name": "#%%\n"
    }
   }
  },
  {
   "cell_type": "code",
   "execution_count": null,
   "outputs": [],
   "source": [
    "# count cell population distribution by class\n",
    "lens=[]\n",
    "for i in range(13):\n",
    "    lens.append(len(pkls[pkls['celltype']==i]))\n",
    "lens"
   ],
   "metadata": {
    "collapsed": false,
    "pycharm": {
     "name": "#%%\n"
    }
   }
  },
  {
   "cell_type": "code",
   "execution_count": null,
   "outputs": [],
   "source": [
    "# visualize cell distribution\n",
    "start = time()\n",
    "a=plt.hist(pkls['celltype'])\n",
    "print(round(time()-start),'seconds')\n",
    "a"
   ],
   "metadata": {
    "collapsed": false,
    "pycharm": {
     "name": "#%%\n"
    }
   }
  },
  {
   "cell_type": "code",
   "execution_count": null,
   "outputs": [],
   "source": [
    "tags = ['corneum','spinosum','hairshaft','hairfollicle','smoothmuscle','oil','sweat','nerve','blood','ECM','fat']\n",
    "for idx,tag in enumerate(tags):\n",
    "    modelname = tag\n",
    "    bd1 = pkls[pkls['celltype']==idx+1].reset_index()\n",
    "    B=bd1['contour']\n",
    "    VamModel = {\n",
    "                \"N\": [],\n",
    "                \"bdrn\": [],\n",
    "                \"mdd\": [],\n",
    "                \"pc\": [],\n",
    "                \"clnum\": [],\n",
    "                \"pcnum\": [],\n",
    "                \"mincms\": [],\n",
    "                \"testmean\": [],\n",
    "                \"teststd\": [],\n",
    "                \"boxcoxlambda\": [],\n",
    "                \"C\": [],\n",
    "                \"Z\": []\n",
    "            }\n",
    "\n",
    "    build_model = True\n",
    "    bdpc, VamModel = bdreg(B, N, VamModel, build_model)\n",
    "    score, VamModel = pca_bdreg(bdpc, VamModel, True)\n",
    "    pcnum = None # none is 20 by default\n",
    "    IDX, IDX_dist, VamModel, goodness = clusterSM(outpth, score, bdpc, clnum, pcnum, VamModel, True, None, None,modelname)\n",
    "\n",
    "\n",
    "    if os.path.exists(os.path.join(*[outpth, modelname, modelname+'.pickle'])):\n",
    "        realtimedate = datetime.now().strftime('%Y-%m-%d_%H-%M-%S')\n",
    "        f = open(os.path.join(*[outpth, modelname, modelname+'_'+realtimedate+'.pickle']), 'wb')\n",
    "    else:\n",
    "        f = open(os.path.join(*[outpth, modelname, modelname+'.pickle']), 'wb')\n",
    "    pickle.dump(VamModel, f)\n",
    "    f.close()\n"
   ],
   "metadata": {
    "collapsed": false,
    "pycharm": {
     "name": "#%%\n",
     "is_executing": true
    }
   }
  },
  {
   "cell_type": "code",
   "execution_count": null,
   "outputs": [],
   "source": [
    "modelname = 'epidermis'\n",
    "bd1 = pkls[pkls['celltype']==3].reset_index()\n",
    "B=bd1['contour']\n",
    "VamModel = {\n",
    "            \"N\": [],\n",
    "            \"bdrn\": [],\n",
    "            \"mdd\": [],\n",
    "            \"pc\": [],\n",
    "            \"clnum\": [],\n",
    "            \"pcnum\": [],\n",
    "            \"mincms\": [],\n",
    "            \"testmean\": [],\n",
    "            \"teststd\": [],\n",
    "            \"boxcoxlambda\": [],\n",
    "            \"C\": [],\n",
    "            \"Z\": []\n",
    "        }\n",
    "\n",
    "build_model = True\n",
    "bdpc, VamModel = bdreg(B, N, VamModel, build_model)\n",
    "score, VamModel = pca_bdreg(bdpc, VamModel, True)\n",
    "pcnum = None # none is 20 by default\n",
    "IDX, IDX_dist, VamModel, goodness = clusterSM(outpth, score, bdpc, clnum, pcnum, VamModel, True, None, None,modelname)\n",
    "\n",
    "\n",
    "if os.path.exists(os.path.join(*[outpth, modelname, modelname+'.pickle'])):\n",
    "    realtimedate = datetime.now().strftime('%Y-%m-%d_%H-%M-%S')\n",
    "    f = open(os.path.join(*[outpth, modelname, modelname+'_'+realtimedate+'.pickle']), 'wb')\n",
    "else:\n",
    "    f = open(os.path.join(*[outpth, modelname, modelname+'.pickle']), 'wb')\n",
    "pickle.dump(VamModel, f)\n",
    "f.close()"
   ],
   "metadata": {
    "collapsed": false,
    "pycharm": {
     "name": "#%%\n"
    }
   }
  },
  {
   "cell_type": "code",
   "execution_count": null,
   "outputs": [],
   "source": [
    "experimental = False"
   ],
   "metadata": {
    "collapsed": false,
    "pycharm": {
     "name": "#%%\n"
    }
   }
  },
  {
   "cell_type": "code",
   "execution_count": null,
   "outputs": [],
   "source": [
    "try:\n",
    "    f = open(modelpth, 'rb')\n",
    "except:\n",
    "    print('the model does not exist. please replace model name to the one you built')\n",
    "vampire_model = pickle.load(f)\n",
    "N = vampire_model['N']\n",
    "clnum = vampire_model['clnum']\n",
    "pcnum = vampire_model['pcnum']"
   ],
   "metadata": {
    "collapsed": false,
    "pycharm": {
     "name": "#%%\n"
    }
   }
  },
  {
   "cell_type": "code",
   "execution_count": null,
   "outputs": [],
   "source": [
    "for setidx, setpath in enumerate(setpaths):\n",
    "    try:\n",
    "        print(setidx,setpath)\n",
    "        pkl = pd.read_pickle(os.path.join(setpath,'boundary.pkl'))\n",
    "        B = pkl['contour']\n",
    "        pkl = pkl.drop(['bbox','centroid','contour','type'], axis=1)\n",
    "        bdpc, vampire_model = bdreg(B, N, vampire_model, build_model)\n",
    "        score, vampire_model = pca_bdreg(bdpc, vampire_model, build_model)\n",
    "        IDX, IDX_dist, VamModel, goodness = clusterSM(outpth, score, bdpc, clnum, pcnum, vampire_model, False, condition[setidx], setID[setidx],modelname)\n",
    "\n",
    "        datasheet = 'VAMPIRE datasheet ' + tag + '.csv'\n",
    "        goodness = goodness.transpose()\n",
    "        pkl['Shape mode']= pd.Series(IDX)\n",
    "        pkl['Distance from cluster center'] = pd.Series(IDX_dist)\n",
    "        for idx,column in enumerate(goodness):\n",
    "            pkl['probability of shape mode '+str(idx)] = column\n",
    "        pkl.to_csv(os.path.join(setpath, datasheet), index=False)\n",
    "    except:\n",
    "        print('error')\n",
    "        continue"
   ],
   "metadata": {
    "collapsed": false,
    "pycharm": {
     "name": "#%%\n"
    }
   }
  },
  {
   "cell_type": "code",
   "execution_count": null,
   "outputs": [],
   "source": [
    "# update_csv(IDX, IDX_dist, tag[setidx], setpath, goodness=goodness)"
   ],
   "metadata": {
    "collapsed": false,
    "pycharm": {
     "name": "#%%\n"
    }
   }
  }
 ],
 "metadata": {
  "kernelspec": {
   "display_name": "Python 3",
   "language": "python",
   "name": "python3"
  },
  "language_info": {
   "codemirror_mode": {
    "name": "ipython",
    "version": 2
   },
   "file_extension": ".py",
   "mimetype": "text/x-python",
   "name": "python",
   "nbconvert_exporter": "python",
   "pygments_lexer": "ipython2",
   "version": "2.7.6"
  }
 },
 "nbformat": 4,
 "nbformat_minor": 0
}