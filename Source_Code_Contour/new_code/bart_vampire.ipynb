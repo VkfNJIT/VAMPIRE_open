{
 "cells": [
  {
   "cell_type": "code",
   "execution_count": 1,
   "outputs": [],
   "source": [
    "from __future__ import division\n",
    "import pandas as pd\n",
    "import glob\n",
    "import os\n",
    "from datetime import datetime\n",
    "import pickle\n",
    "from PIL import Image\n",
    "from VAMPIRE_backend import cntarea,cntAR,cntExtent,cntEquiDia,cntsol,bdreg,pca_bdreg,clusterSM\n",
    "from time import time\n",
    "import numpy as np\n",
    "from matplotlib import pyplot as plt\n",
    "import cv2"
   ],
   "metadata": {
    "collapsed": false,
    "pycharm": {
     "name": "#%%\n"
    }
   }
  },
  {
   "cell_type": "code",
   "execution_count": 2,
   "outputs": [
    {
     "data": {
      "text/plain": "['\\\\\\\\fatherserverdw\\\\Bart\\\\Stiffness\\\\Morphology\\\\3_31_22_Jude_Confocal_0.5kPa\\\\DMSO HMGB1\\\\Mask',\n '\\\\\\\\fatherserverdw\\\\Bart\\\\Stiffness\\\\Morphology\\\\3_31_22_Jude_Confocal_0.5kPa\\\\DMSO P16\\\\Mask',\n '\\\\\\\\fatherserverdw\\\\Bart\\\\Stiffness\\\\Morphology\\\\3_31_22_Jude_Confocal_0.5kPa\\\\HMGB1\\\\Mask',\n '\\\\\\\\fatherserverdw\\\\Bart\\\\Stiffness\\\\Morphology\\\\3_31_22_Jude_Confocal_0.5kPa\\\\P16\\\\Mask']"
     },
     "execution_count": 2,
     "metadata": {},
     "output_type": "execute_result"
    }
   ],
   "source": [
    "src = r'\\\\fatherserverdw\\Bart\\Stiffness\\Morphology\\3_31_22_Jude_Confocal_0.5kPa'\n",
    "setpaths = [x[0] for x in os.walk(src)]\n",
    "setpaths = [_ for _ in setpaths if 'Mask' in _]\n",
    "setpaths"
   ],
   "metadata": {
    "collapsed": false,
    "pycharm": {
     "name": "#%%\n"
    }
   }
  },
  {
   "cell_type": "code",
   "execution_count": 3,
   "outputs": [],
   "source": [
    "N=50 #equidistant points along cell boundary\n",
    "clnum = 10\n",
    "modelname='Bart_ABCDE'\n",
    "outpth = r'\\\\fatherserverdw\\Bart\\Stiffness\\Morphology\\3_31_22_Jude_Confocal_0.5kPa\\vampoutput'"
   ],
   "metadata": {
    "collapsed": false,
    "pycharm": {
     "name": "#%% Build model\n"
    }
   }
  },
  {
   "cell_type": "code",
   "execution_count": 4,
   "outputs": [
    {
     "data": {
      "text/plain": "(['3_31_22_Jude_Confocal_0.5kPa',\n  '3_31_22_Jude_Confocal_0.5kPa',\n  '3_31_22_Jude_Confocal_0.5kPa',\n  '3_31_22_Jude_Confocal_0.5kPa'],\n ['DMSO HMGB1', 'DMSO P16', 'HMGB1', 'P16'])"
     },
     "execution_count": 4,
     "metadata": {},
     "output_type": "execute_result"
    }
   ],
   "source": [
    "modelpth = r'{}\\{}.pickle'.format(outpth,modelname)\n",
    "setIDs = [os.path.basename(os.path.dirname(_)) for _ in setpaths] #p\n",
    "conditions = [os.path.basename(os.path.dirname(os.path.dirname(_))) for _ in setpaths] #p\n",
    "conditions,setIDs"
   ],
   "metadata": {
    "collapsed": false,
    "pycharm": {
     "name": "#%% Apply model\n"
    }
   }
  },
  {
   "cell_type": "code",
   "execution_count": null,
   "outputs": [],
   "source": [
    "boundaries =[]\n",
    "imageIDs=[]\n",
    "for setpath,condition,setID  in zip(setpaths,conditions,setIDs):\n",
    "    masks = glob.glob(os.path.join(setpath,'*.tiff'))\n",
    "    imageID = [os.path.splitext(os.path.basename(_))[0] for _ in masks]\n",
    "    imstack = [np.array(Image.open(im)) for im in masks]\n",
    "    for idx,im in zip(imageID,imstack):\n",
    "        labels = list(set(im.flatten()))[1:]\n",
    "        # iterate through labeled object in image\n",
    "        for objidx, lab in enumerate(labels):\n",
    "            mask = np.array((im == lab).astype(int), dtype='uint8')\n",
    "            contours, hierarchy = cv2.findContours(mask, cv2.RETR_TREE, cv2.CHAIN_APPROX_SIMPLE)\n",
    "            boundary = np.flip(np.squeeze(contours))\n",
    "            boundaries.append(boundary)\n",
    "            imageIDs.append(idx)"
   ],
   "metadata": {
    "collapsed": false,
    "pycharm": {
     "name": "#%%\n",
     "is_executing": true
    }
   }
  },
  {
   "cell_type": "code",
   "execution_count": null,
   "outputs": [],
   "source": [
    "df = pd.DataFrame({'boundary':boundaries,\n",
    "                   'condition':[condition]*len(boundaries),\n",
    "                   'setID':[setID]*len(boundaries),\n",
    "                   'imageID':imageIDs\n",
    "                   })\n",
    "df"
   ],
   "metadata": {
    "collapsed": false,
    "pycharm": {
     "name": "#%%\n",
     "is_executing": true
    }
   }
  },
  {
   "cell_type": "code",
   "execution_count": null,
   "outputs": [],
   "source": [
    "df = df[df['boundary'].map(len) > 5]\n",
    "df['Area'] = df['boundary'].apply(lambda row: cntarea(row))\n",
    "df['AR'] = df['boundary'].apply(lambda row: cntAR(row))\n",
    "df['Sol'] = df['boundary'].apply(lambda row: cntsol(row))\n",
    "df['Extent'] = df['boundary'].apply(lambda row: cntExtent(row))\n",
    "df['EquiDia'] = df['boundary'].apply(lambda row: cntEquiDia(row))\n",
    "df.to_pickle(os.path.join(setpath,'boundary.pkl'))"
   ],
   "metadata": {
    "collapsed": false,
    "pycharm": {
     "name": "#%%\n",
     "is_executing": true
    }
   }
  },
  {
   "cell_type": "code",
   "execution_count": 55,
   "outputs": [
    {
     "name": "stdout",
     "output_type": "stream",
     "text": [
      "boundary saved to :  \\\\fatherserverdw\\Bart\\Stiffness\\Morphology\\3_31_22_Jude_Confocal_0.5kPa\\DMSO HMGB1\\Mask\\boundary.pkl\n"
     ]
    }
   ],
   "source": [
    "print('boundary saved to : ',os.path.join(setpath,'boundary.pkl'))"
   ],
   "metadata": {
    "collapsed": false,
    "pycharm": {
     "name": "#%%\n"
    }
   }
  },
  {
   "cell_type": "code",
   "execution_count": null,
   "outputs": [],
   "source": [
    "start = time()\n",
    "pkls = []\n",
    "for setpath in setpaths:\n",
    "    start = time()\n",
    "    if not os.path.exists(os.path.join(setpath,'boundary.pkl')):continue\n",
    "    pkl = pd.read_pickle(os.path.join(setpath,'boundary.pkl'))\n",
    "    pkls.append(pkl)\n",
    "pkls = pd.concat(pkls,ignore_index=True)\n",
    "print(round(time()-start),'seconds')\n",
    "pkls"
   ],
   "metadata": {
    "collapsed": false,
    "pycharm": {
     "name": "#%%\n"
    }
   }
  },
  {
   "cell_type": "code",
   "execution_count": null,
   "outputs": [],
   "source": [
    "B=pkls['boundary']\n",
    "VamModel = {\n",
    "                \"N\": [],\n",
    "                \"bdrn\": [],\n",
    "                \"mdd\": [],\n",
    "                \"pc\": [],\n",
    "                \"clnum\": [],\n",
    "                \"pcnum\": [],\n",
    "                \"mincms\": [],\n",
    "                \"testmean\": [],\n",
    "                \"teststd\": [],\n",
    "                \"boxcoxlambda\": [],\n",
    "                \"C\": [],\n",
    "                \"Z\": []\n",
    "            }\n",
    "\n",
    "build_model = True\n",
    "bdpc, VamModel = bdreg(B, N, VamModel, build_model)\n",
    "score, VamModel = pca_bdreg(bdpc, VamModel, True)\n",
    "pcnum = None # none is 20 by default\n",
    "IDX, IDX_dist, VamModel, goodness = clusterSM(outpth, score, bdpc, clnum, pcnum, VamModel, True, None, None,modelname)\n",
    "f = open(os.path.join(*[outpth, modelname, modelname+'.pickle']), 'wb')\n",
    "pickle.dump(VamModel, f)\n",
    "f.close()"
   ],
   "metadata": {
    "collapsed": false,
    "pycharm": {
     "name": "#%%\n"
    }
   }
  },
  {
   "cell_type": "code",
   "execution_count": null,
   "outputs": [],
   "source": [
    "experimental = False"
   ],
   "metadata": {
    "collapsed": false,
    "pycharm": {
     "name": "#%%\n"
    }
   }
  },
  {
   "cell_type": "code",
   "execution_count": null,
   "outputs": [],
   "source": [
    "try:\n",
    "    f = open(modelpth, 'rb')\n",
    "except:\n",
    "    print('the model does not exist. please replace model name to the one you built')\n",
    "vampire_model = pickle.load(f)\n",
    "N = vampire_model['N']\n",
    "clnum = vampire_model['clnum']\n",
    "pcnum = vampire_model['pcnum']"
   ],
   "metadata": {
    "collapsed": false,
    "pycharm": {
     "name": "#%%\n"
    }
   }
  },
  {
   "cell_type": "code",
   "execution_count": null,
   "outputs": [],
   "source": [
    "#apply model\n",
    "for setidx, setpath in enumerate(setpaths):\n",
    "    try:\n",
    "        print(setidx,setpath)\n",
    "        pkl = pd.read_pickle(os.path.join(setpath,'boundary.pkl'))\n",
    "        B = pkl['contour']\n",
    "        pkl = pkl.drop(['bbox','centroid','contour','type'], axis=1)\n",
    "        bdpc, vampire_model = bdreg(B, N, vampire_model, build_model)\n",
    "        score, vampire_model = pca_bdreg(bdpc, vampire_model, build_model)\n",
    "        IDX, IDX_dist, VamModel, goodness = clusterSM(outpth, score, bdpc, clnum, pcnum, vampire_model, False, condition[setidx], setID[setidx],modelname)\n",
    "\n",
    "        datasheet = 'VAMPIRE datasheet ' + tag + '.csv'\n",
    "        goodness = goodness.transpose()\n",
    "        pkl['Shape mode']= pd.Series(IDX)\n",
    "        pkl['Distance from cluster center'] = pd.Series(IDX_dist)\n",
    "        for idx,column in enumerate(goodness):\n",
    "            pkl['probability of shape mode '+str(idx)] = column\n",
    "        pkl.to_csv(os.path.join(setpath, datasheet), index=False)\n",
    "    except:\n",
    "        print('error')\n",
    "        continue"
   ],
   "metadata": {
    "collapsed": false,
    "pycharm": {
     "name": "#%%\n"
    }
   }
  },
  {
   "cell_type": "code",
   "execution_count": null,
   "outputs": [],
   "source": [
    "# update_csv(IDX, IDX_dist, tag[setidx], setpath, goodness=goodness)"
   ],
   "metadata": {
    "collapsed": false,
    "pycharm": {
     "name": "#%%\n"
    }
   }
  }
 ],
 "metadata": {
  "kernelspec": {
   "display_name": "Python 3",
   "language": "python",
   "name": "python3"
  },
  "language_info": {
   "codemirror_mode": {
    "name": "ipython",
    "version": 2
   },
   "file_extension": ".py",
   "mimetype": "text/x-python",
   "name": "python",
   "nbconvert_exporter": "python",
   "pygments_lexer": "ipython2",
   "version": "2.7.6"
  }
 },
 "nbformat": 4,
 "nbformat_minor": 0
}